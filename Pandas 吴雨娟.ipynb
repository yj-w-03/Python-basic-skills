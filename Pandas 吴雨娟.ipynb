{
 "cells": [
  {
   "cell_type": "markdown",
   "metadata": {},
   "source": [
    "# Pandas\n",
    "Pandas basic codes for practice"
   ]
  },
  {
   "cell_type": "markdown",
   "metadata": {},
   "source": [
    "## 0 安装\n",
    "安装方法同Numpy，可以参考Numpy笔记"
   ]
  },
  {
   "cell_type": "markdown",
   "metadata": {},
   "source": [
    "## 1 Pandas快速入门学习"
   ]
  },
  {
   "cell_type": "markdown",
   "metadata": {},
   "source": [
    "### 1）基本介绍"
   ]
  },
  {
   "cell_type": "code",
   "execution_count": 10,
   "metadata": {},
   "outputs": [
    {
     "data": {
      "text/plain": [
       "0     1.0\n",
       "1     4.0\n",
       "2     6.0\n",
       "3     NaN\n",
       "4    67.0\n",
       "5     8.0\n",
       "dtype: float64"
      ]
     },
     "execution_count": 10,
     "metadata": {},
     "output_type": "execute_result"
    }
   ],
   "source": [
    "#生成序列\n",
    "import pandas as pd\n",
    "import numpy as np\n",
    "s=pd.Series([1,4,6,np.nan,67,8])\n",
    "s"
   ]
  },
  {
   "cell_type": "code",
   "execution_count": 9,
   "metadata": {},
   "outputs": [
    {
     "data": {
      "text/plain": [
       "DatetimeIndex(['2021-01-14', '2021-01-15', '2021-01-16'], dtype='datetime64[ns]', freq='D')"
      ]
     },
     "execution_count": 9,
     "metadata": {},
     "output_type": "execute_result"
    }
   ],
   "source": [
    "#生成日期序列\n",
    "import pandas as pd\n",
    "import numpy as np\n",
    "dates=pd.date_range('20210114',periods=3)\n",
    "dates"
   ]
  },
  {
   "cell_type": "code",
   "execution_count": 8,
   "metadata": {},
   "outputs": [
    {
     "data": {
      "text/html": [
       "<div>\n",
       "<style scoped>\n",
       "    .dataframe tbody tr th:only-of-type {\n",
       "        vertical-align: middle;\n",
       "    }\n",
       "\n",
       "    .dataframe tbody tr th {\n",
       "        vertical-align: top;\n",
       "    }\n",
       "\n",
       "    .dataframe thead th {\n",
       "        text-align: right;\n",
       "    }\n",
       "</style>\n",
       "<table border=\"1\" class=\"dataframe\">\n",
       "  <thead>\n",
       "    <tr style=\"text-align: right;\">\n",
       "      <th></th>\n",
       "      <th>a</th>\n",
       "      <th>b</th>\n",
       "      <th>c</th>\n",
       "      <th>d</th>\n",
       "    </tr>\n",
       "  </thead>\n",
       "  <tbody>\n",
       "    <tr>\n",
       "      <th>2021-01-14</th>\n",
       "      <td>1.748175</td>\n",
       "      <td>-0.095990</td>\n",
       "      <td>-0.240411</td>\n",
       "      <td>0.055525</td>\n",
       "    </tr>\n",
       "    <tr>\n",
       "      <th>2021-01-15</th>\n",
       "      <td>-0.935780</td>\n",
       "      <td>0.391609</td>\n",
       "      <td>0.648734</td>\n",
       "      <td>-0.569127</td>\n",
       "    </tr>\n",
       "    <tr>\n",
       "      <th>2021-01-16</th>\n",
       "      <td>-0.083766</td>\n",
       "      <td>0.597682</td>\n",
       "      <td>0.414388</td>\n",
       "      <td>0.957347</td>\n",
       "    </tr>\n",
       "  </tbody>\n",
       "</table>\n",
       "</div>"
      ],
      "text/plain": [
       "                   a         b         c         d\n",
       "2021-01-14  1.748175 -0.095990 -0.240411  0.055525\n",
       "2021-01-15 -0.935780  0.391609  0.648734 -0.569127\n",
       "2021-01-16 -0.083766  0.597682  0.414388  0.957347"
      ]
     },
     "execution_count": 8,
     "metadata": {},
     "output_type": "execute_result"
    }
   ],
   "source": [
    "#指定行列名称，生成表格\n",
    "import pandas as pd\n",
    "import numpy as np\n",
    "dates=pd.date_range('20210114',periods=3)\n",
    "df=pd.DataFrame(np.random.randn(3,4),index=dates,columns=['a','b','c','d'])#给定行和列的名称，生成随机数\n",
    "df"
   ]
  },
  {
   "cell_type": "code",
   "execution_count": 7,
   "metadata": {},
   "outputs": [
    {
     "data": {
      "text/html": [
       "<div>\n",
       "<style scoped>\n",
       "    .dataframe tbody tr th:only-of-type {\n",
       "        vertical-align: middle;\n",
       "    }\n",
       "\n",
       "    .dataframe tbody tr th {\n",
       "        vertical-align: top;\n",
       "    }\n",
       "\n",
       "    .dataframe thead th {\n",
       "        text-align: right;\n",
       "    }\n",
       "</style>\n",
       "<table border=\"1\" class=\"dataframe\">\n",
       "  <thead>\n",
       "    <tr style=\"text-align: right;\">\n",
       "      <th></th>\n",
       "      <th>0</th>\n",
       "      <th>1</th>\n",
       "      <th>2</th>\n",
       "      <th>3</th>\n",
       "    </tr>\n",
       "  </thead>\n",
       "  <tbody>\n",
       "    <tr>\n",
       "      <th>0</th>\n",
       "      <td>0</td>\n",
       "      <td>1</td>\n",
       "      <td>2</td>\n",
       "      <td>3</td>\n",
       "    </tr>\n",
       "    <tr>\n",
       "      <th>1</th>\n",
       "      <td>4</td>\n",
       "      <td>5</td>\n",
       "      <td>6</td>\n",
       "      <td>7</td>\n",
       "    </tr>\n",
       "    <tr>\n",
       "      <th>2</th>\n",
       "      <td>8</td>\n",
       "      <td>9</td>\n",
       "      <td>10</td>\n",
       "      <td>11</td>\n",
       "    </tr>\n",
       "  </tbody>\n",
       "</table>\n",
       "</div>"
      ],
      "text/plain": [
       "   0  1   2   3\n",
       "0  0  1   2   3\n",
       "1  4  5   6   7\n",
       "2  8  9  10  11"
      ]
     },
     "execution_count": 7,
     "metadata": {},
     "output_type": "execute_result"
    }
   ],
   "source": [
    "#不指定行列名称，生成随机数表格\n",
    "import pandas as pd\n",
    "import numpy as np\n",
    "df=pd.DataFrame(np.arange(12).reshape((3,4))) \n",
    "df"
   ]
  },
  {
   "cell_type": "code",
   "execution_count": 2,
   "metadata": {},
   "outputs": [
    {
     "data": {
      "text/html": [
       "<div>\n",
       "<style scoped>\n",
       "    .dataframe tbody tr th:only-of-type {\n",
       "        vertical-align: middle;\n",
       "    }\n",
       "\n",
       "    .dataframe tbody tr th {\n",
       "        vertical-align: top;\n",
       "    }\n",
       "\n",
       "    .dataframe thead th {\n",
       "        text-align: right;\n",
       "    }\n",
       "</style>\n",
       "<table border=\"1\" class=\"dataframe\">\n",
       "  <thead>\n",
       "    <tr style=\"text-align: right;\">\n",
       "      <th></th>\n",
       "      <th>0</th>\n",
       "      <th>1</th>\n",
       "      <th>2</th>\n",
       "      <th>3</th>\n",
       "    </tr>\n",
       "  </thead>\n",
       "  <tbody>\n",
       "    <tr>\n",
       "      <th>count</th>\n",
       "      <td>3.0</td>\n",
       "      <td>3.0</td>\n",
       "      <td>3.0</td>\n",
       "      <td>3.0</td>\n",
       "    </tr>\n",
       "    <tr>\n",
       "      <th>mean</th>\n",
       "      <td>4.0</td>\n",
       "      <td>5.0</td>\n",
       "      <td>6.0</td>\n",
       "      <td>7.0</td>\n",
       "    </tr>\n",
       "    <tr>\n",
       "      <th>std</th>\n",
       "      <td>4.0</td>\n",
       "      <td>4.0</td>\n",
       "      <td>4.0</td>\n",
       "      <td>4.0</td>\n",
       "    </tr>\n",
       "    <tr>\n",
       "      <th>min</th>\n",
       "      <td>0.0</td>\n",
       "      <td>1.0</td>\n",
       "      <td>2.0</td>\n",
       "      <td>3.0</td>\n",
       "    </tr>\n",
       "    <tr>\n",
       "      <th>25%</th>\n",
       "      <td>2.0</td>\n",
       "      <td>3.0</td>\n",
       "      <td>4.0</td>\n",
       "      <td>5.0</td>\n",
       "    </tr>\n",
       "    <tr>\n",
       "      <th>50%</th>\n",
       "      <td>4.0</td>\n",
       "      <td>5.0</td>\n",
       "      <td>6.0</td>\n",
       "      <td>7.0</td>\n",
       "    </tr>\n",
       "    <tr>\n",
       "      <th>75%</th>\n",
       "      <td>6.0</td>\n",
       "      <td>7.0</td>\n",
       "      <td>8.0</td>\n",
       "      <td>9.0</td>\n",
       "    </tr>\n",
       "    <tr>\n",
       "      <th>max</th>\n",
       "      <td>8.0</td>\n",
       "      <td>9.0</td>\n",
       "      <td>10.0</td>\n",
       "      <td>11.0</td>\n",
       "    </tr>\n",
       "  </tbody>\n",
       "</table>\n",
       "</div>"
      ],
      "text/plain": [
       "         0    1     2     3\n",
       "count  3.0  3.0   3.0   3.0\n",
       "mean   4.0  5.0   6.0   7.0\n",
       "std    4.0  4.0   4.0   4.0\n",
       "min    0.0  1.0   2.0   3.0\n",
       "25%    2.0  3.0   4.0   5.0\n",
       "50%    4.0  5.0   6.0   7.0\n",
       "75%    6.0  7.0   8.0   9.0\n",
       "max    8.0  9.0  10.0  11.0"
      ]
     },
     "execution_count": 2,
     "metadata": {},
     "output_type": "execute_result"
    }
   ],
   "source": [
    "#describe()函数\n",
    "import pandas as pd\n",
    "import numpy as np\n",
    "df=pd.DataFrame(np.arange(12).reshape((3,4)))\n",
    "df.describe()"
   ]
  },
  {
   "cell_type": "code",
   "execution_count": 13,
   "metadata": {},
   "outputs": [
    {
     "data": {
      "text/html": [
       "<div>\n",
       "<style scoped>\n",
       "    .dataframe tbody tr th:only-of-type {\n",
       "        vertical-align: middle;\n",
       "    }\n",
       "\n",
       "    .dataframe tbody tr th {\n",
       "        vertical-align: top;\n",
       "    }\n",
       "\n",
       "    .dataframe thead th {\n",
       "        text-align: right;\n",
       "    }\n",
       "</style>\n",
       "<table border=\"1\" class=\"dataframe\">\n",
       "  <thead>\n",
       "    <tr style=\"text-align: right;\">\n",
       "      <th></th>\n",
       "      <th>3</th>\n",
       "      <th>2</th>\n",
       "      <th>1</th>\n",
       "      <th>0</th>\n",
       "    </tr>\n",
       "  </thead>\n",
       "  <tbody>\n",
       "    <tr>\n",
       "      <th>0</th>\n",
       "      <td>3</td>\n",
       "      <td>2</td>\n",
       "      <td>1</td>\n",
       "      <td>0</td>\n",
       "    </tr>\n",
       "    <tr>\n",
       "      <th>1</th>\n",
       "      <td>7</td>\n",
       "      <td>6</td>\n",
       "      <td>5</td>\n",
       "      <td>4</td>\n",
       "    </tr>\n",
       "    <tr>\n",
       "      <th>2</th>\n",
       "      <td>11</td>\n",
       "      <td>10</td>\n",
       "      <td>9</td>\n",
       "      <td>8</td>\n",
       "    </tr>\n",
       "  </tbody>\n",
       "</table>\n",
       "</div>"
      ],
      "text/plain": [
       "    3   2  1  0\n",
       "0   3   2  1  0\n",
       "1   7   6  5  4\n",
       "2  11  10  9  8"
      ]
     },
     "execution_count": 13,
     "metadata": {},
     "output_type": "execute_result"
    }
   ],
   "source": [
    "#按索引排序\n",
    "import pandas as pd\n",
    "import numpy as np\n",
    "df=pd.DataFrame(np.arange(12).reshape((3,4)))\n",
    "df.sort_index(axis=1,ascending=False)#每一行倒序"
   ]
  },
  {
   "cell_type": "code",
   "execution_count": 21,
   "metadata": {},
   "outputs": [
    {
     "data": {
      "text/html": [
       "<div>\n",
       "<style scoped>\n",
       "    .dataframe tbody tr th:only-of-type {\n",
       "        vertical-align: middle;\n",
       "    }\n",
       "\n",
       "    .dataframe tbody tr th {\n",
       "        vertical-align: top;\n",
       "    }\n",
       "\n",
       "    .dataframe thead th {\n",
       "        text-align: right;\n",
       "    }\n",
       "</style>\n",
       "<table border=\"1\" class=\"dataframe\">\n",
       "  <thead>\n",
       "    <tr style=\"text-align: right;\">\n",
       "      <th></th>\n",
       "      <th>0</th>\n",
       "      <th>1</th>\n",
       "    </tr>\n",
       "  </thead>\n",
       "  <tbody>\n",
       "    <tr>\n",
       "      <th>2</th>\n",
       "      <td>8</td>\n",
       "      <td>2</td>\n",
       "    </tr>\n",
       "    <tr>\n",
       "      <th>0</th>\n",
       "      <td>1</td>\n",
       "      <td>4</td>\n",
       "    </tr>\n",
       "    <tr>\n",
       "      <th>1</th>\n",
       "      <td>3</td>\n",
       "      <td>4</td>\n",
       "    </tr>\n",
       "  </tbody>\n",
       "</table>\n",
       "</div>"
      ],
      "text/plain": [
       "   0  1\n",
       "2  8  2\n",
       "0  1  4\n",
       "1  3  4"
      ]
     },
     "execution_count": 21,
     "metadata": {},
     "output_type": "execute_result"
    }
   ],
   "source": [
    "#按变量值排序\n",
    "import pandas as pd\n",
    "import numpy as np\n",
    "df=pd.DataFrame(np.array([1,4,3,4,8,2]).reshape((3,2)))\n",
    "df.sort_values(by=1)"
   ]
  },
  {
   "cell_type": "markdown",
   "metadata": {},
   "source": [
    "### 2）选择数据"
   ]
  },
  {
   "cell_type": "code",
   "execution_count": 4,
   "metadata": {},
   "outputs": [
    {
     "name": "stdout",
     "output_type": "stream",
     "text": [
      "             A   B   C   D\n",
      "2021-01-18   0   1   2   3\n",
      "2021-01-19   4   5   6   7\n",
      "2021-01-20   8   9  10  11\n",
      "2021-01-21  12  13  14  15\n",
      "2021-01-22  16  17  18  19\n",
      "2021-01-23  20  21  22  23\n"
     ]
    },
    {
     "data": {
      "text/html": [
       "<div>\n",
       "<style scoped>\n",
       "    .dataframe tbody tr th:only-of-type {\n",
       "        vertical-align: middle;\n",
       "    }\n",
       "\n",
       "    .dataframe tbody tr th {\n",
       "        vertical-align: top;\n",
       "    }\n",
       "\n",
       "    .dataframe thead th {\n",
       "        text-align: right;\n",
       "    }\n",
       "</style>\n",
       "<table border=\"1\" class=\"dataframe\">\n",
       "  <thead>\n",
       "    <tr style=\"text-align: right;\">\n",
       "      <th></th>\n",
       "      <th>A</th>\n",
       "      <th>B</th>\n",
       "      <th>C</th>\n",
       "      <th>D</th>\n",
       "    </tr>\n",
       "  </thead>\n",
       "  <tbody>\n",
       "    <tr>\n",
       "      <th>2021-01-19</th>\n",
       "      <td>4</td>\n",
       "      <td>5</td>\n",
       "      <td>6</td>\n",
       "      <td>7</td>\n",
       "    </tr>\n",
       "    <tr>\n",
       "      <th>2021-01-20</th>\n",
       "      <td>8</td>\n",
       "      <td>9</td>\n",
       "      <td>10</td>\n",
       "      <td>11</td>\n",
       "    </tr>\n",
       "  </tbody>\n",
       "</table>\n",
       "</div>"
      ],
      "text/plain": [
       "            A  B   C   D\n",
       "2021-01-19  4  5   6   7\n",
       "2021-01-20  8  9  10  11"
      ]
     },
     "execution_count": 4,
     "metadata": {},
     "output_type": "execute_result"
    }
   ],
   "source": [
    "import numpy as np\n",
    "import pandas as pd\n",
    "dates=pd.date_range('20210118',periods=6)\n",
    "df=pd.DataFrame(np.arange(24).reshape((6,4)),index=dates,columns=['A','B','C','D'])\n",
    "print(df)\n",
    "#print(df['A'],df.B)\n",
    "#用切片来选择\n",
    "df[1:3]#df['20210120':'20210122']"
   ]
  },
  {
   "cell_type": "code",
   "execution_count": 25,
   "metadata": {},
   "outputs": [
    {
     "name": "stdout",
     "output_type": "stream",
     "text": [
      "A    4\n",
      "B    5\n",
      "C    6\n",
      "D    7\n",
      "Name: 2021-01-19 00:00:00, dtype: int32\n",
      "             A   C\n",
      "2021-01-18   0   2\n",
      "2021-01-19   4   6\n",
      "2021-01-20   8  10\n",
      "2021-01-21  12  14\n",
      "2021-01-22  16  18\n",
      "2021-01-23  20  22\n",
      "A    16\n",
      "B    17\n",
      "Name: 2021-01-22 00:00:00, dtype: int32\n"
     ]
    }
   ],
   "source": [
    "#select by lable:loc\n",
    "import numpy as np\n",
    "import pandas as pd\n",
    "dates=pd.date_range('20210118',periods=6)\n",
    "df=pd.DataFrame(np.arange(24).reshape((6,4)),index=dates,columns=['A','B','C','D'])\n",
    "print(df.loc['20210119'])\n",
    "print(df.loc[:,['A','C']])\n",
    "print(df.loc['20210122',['A','B']])"
   ]
  },
  {
   "cell_type": "code",
   "execution_count": 26,
   "metadata": {},
   "outputs": [
    {
     "name": "stdout",
     "output_type": "stream",
     "text": [
      "13\n",
      "             B   C\n",
      "2021-01-18   1   2\n",
      "2021-01-20   9  10\n",
      "2021-01-22  17  18\n"
     ]
    }
   ],
   "source": [
    "#select by position:iloc\n",
    "import numpy as np\n",
    "import pandas as pd\n",
    "dates=pd.date_range('20210118',periods=6)\n",
    "df=pd.DataFrame(np.arange(24).reshape((6,4)),index=dates,columns=['A','B','C','D'])\n",
    "print(df.iloc[3,1])\n",
    "print(df.iloc[[0,2,4],1:3])"
   ]
  },
  {
   "cell_type": "code",
   "execution_count": 5,
   "metadata": {},
   "outputs": [
    {
     "name": "stdout",
     "output_type": "stream",
     "text": [
      "             A   B   C   D\n",
      "2021-01-18   0   1   2   3\n",
      "2021-01-19   4   5   6   7\n",
      "2021-01-20   8   9  10  11\n",
      "2021-01-21  12  13  14  15\n",
      "2021-01-22  16  17  18  19\n",
      "2021-01-23  20  21  22  23\n"
     ]
    },
    {
     "data": {
      "text/html": [
       "<div>\n",
       "<style scoped>\n",
       "    .dataframe tbody tr th:only-of-type {\n",
       "        vertical-align: middle;\n",
       "    }\n",
       "\n",
       "    .dataframe tbody tr th {\n",
       "        vertical-align: top;\n",
       "    }\n",
       "\n",
       "    .dataframe thead th {\n",
       "        text-align: right;\n",
       "    }\n",
       "</style>\n",
       "<table border=\"1\" class=\"dataframe\">\n",
       "  <thead>\n",
       "    <tr style=\"text-align: right;\">\n",
       "      <th></th>\n",
       "      <th>A</th>\n",
       "      <th>B</th>\n",
       "      <th>C</th>\n",
       "      <th>D</th>\n",
       "    </tr>\n",
       "  </thead>\n",
       "  <tbody>\n",
       "    <tr>\n",
       "      <th>2021-01-21</th>\n",
       "      <td>12</td>\n",
       "      <td>13</td>\n",
       "      <td>14</td>\n",
       "      <td>15</td>\n",
       "    </tr>\n",
       "    <tr>\n",
       "      <th>2021-01-22</th>\n",
       "      <td>16</td>\n",
       "      <td>17</td>\n",
       "      <td>18</td>\n",
       "      <td>19</td>\n",
       "    </tr>\n",
       "    <tr>\n",
       "      <th>2021-01-23</th>\n",
       "      <td>20</td>\n",
       "      <td>21</td>\n",
       "      <td>22</td>\n",
       "      <td>23</td>\n",
       "    </tr>\n",
       "  </tbody>\n",
       "</table>\n",
       "</div>"
      ],
      "text/plain": [
       "             A   B   C   D\n",
       "2021-01-21  12  13  14  15\n",
       "2021-01-22  16  17  18  19\n",
       "2021-01-23  20  21  22  23"
      ]
     },
     "execution_count": 5,
     "metadata": {},
     "output_type": "execute_result"
    }
   ],
   "source": [
    "#Boolean indexing\n",
    "import numpy as np\n",
    "import pandas as pd\n",
    "dates=pd.date_range('20210118',periods=6)\n",
    "df=pd.DataFrame(np.arange(24).reshape((6,4)),index=dates,columns=['A','B','C','D'])\n",
    "print(df)\n",
    "df[df.A>8]"
   ]
  },
  {
   "cell_type": "markdown",
   "metadata": {},
   "source": [
    "### 3) 设置值"
   ]
  },
  {
   "cell_type": "code",
   "execution_count": 10,
   "metadata": {},
   "outputs": [
    {
     "name": "stdout",
     "output_type": "stream",
     "text": [
      "            A   B    C   D   F  E\n",
      "2021-01-18  0   1  233   3 NaN  1\n",
      "2021-01-19  2   5    6   7 NaN  2\n",
      "2021-01-20  2   9  111  11 NaN  3\n",
      "2021-01-21  2  13   14  15 NaN  4\n",
      "2021-01-22  2  17   18  19 NaN  5\n",
      "2021-01-23  2  21   22  23 NaN  6\n"
     ]
    }
   ],
   "source": [
    "import numpy as np\n",
    "import pandas as pd\n",
    "dates=pd.date_range('20210118',periods=6)\n",
    "df=pd.DataFrame(np.arange(24).reshape((6,4)),index=dates,columns=['A','B','C','D'])\n",
    "df.iloc[2,2]=111\n",
    "df.loc['20210118','C']=233\n",
    "df.A[df.A>2]=2\n",
    "df['F']=np.nan\n",
    "df['E']=pd.Series([1,2,3,4,5,6],index=pd.date_range('20210118',periods=6))\n",
    "print(df)"
   ]
  },
  {
   "cell_type": "markdown",
   "metadata": {},
   "source": [
    "### 4) 处理丢失数据"
   ]
  },
  {
   "cell_type": "code",
   "execution_count": 17,
   "metadata": {},
   "outputs": [
    {
     "name": "stdout",
     "output_type": "stream",
     "text": [
      "             A     B     C   D\n",
      "2021-01-18   0   NaN   2.0   3\n",
      "2021-01-19   4   5.0   NaN   7\n",
      "2021-01-20   8   9.0  10.0  11\n",
      "2021-01-21  12  13.0  14.0  15\n",
      "2021-01-22  16  17.0  18.0  19\n",
      "2021-01-23  20  21.0  22.0  23\n",
      "             A   D\n",
      "2021-01-18   0   3\n",
      "2021-01-19   4   7\n",
      "2021-01-20   8  11\n",
      "2021-01-21  12  15\n",
      "2021-01-22  16  19\n",
      "2021-01-23  20  23\n",
      "             A     B     C   D\n",
      "2021-01-18   0   0.0   2.0   3\n",
      "2021-01-19   4   5.0   0.0   7\n",
      "2021-01-20   8   9.0  10.0  11\n",
      "2021-01-21  12  13.0  14.0  15\n",
      "2021-01-22  16  17.0  18.0  19\n",
      "2021-01-23  20  21.0  22.0  23\n",
      "                A      B      C      D\n",
      "2021-01-18  False   True  False  False\n",
      "2021-01-19  False  False   True  False\n",
      "2021-01-20  False  False  False  False\n",
      "2021-01-21  False  False  False  False\n",
      "2021-01-22  False  False  False  False\n",
      "2021-01-23  False  False  False  False\n",
      "True\n"
     ]
    }
   ],
   "source": [
    "import numpy as np\n",
    "import pandas as pd\n",
    "dates=pd.date_range('20210118',periods=6)\n",
    "df=pd.DataFrame(np.arange(24).reshape((6,4)),index=dates,columns=['A','B','C','D'])\n",
    "df.iloc[0,1]=np.nan\n",
    "df.iloc[1,2]=np.nan\n",
    "print(df)\n",
    "print(df.dropna(axis=1,how='any'))#how={'any','all'}\n",
    "print(df.fillna(value=0))#填入数字\n",
    "print(df.isnull())#判断是否有缺失数据\n",
    "print(np.any(df.isnull())==True)#至少有一个数据丢失，就会返回True"
   ]
  },
  {
   "cell_type": "markdown",
   "metadata": {},
   "source": [
    "### 5）导入导出数据"
   ]
  },
  {
   "cell_type": "code",
   "execution_count": 1,
   "metadata": {},
   "outputs": [
    {
     "data": {
      "text/html": [
       "<div>\n",
       "<style scoped>\n",
       "    .dataframe tbody tr th:only-of-type {\n",
       "        vertical-align: middle;\n",
       "    }\n",
       "\n",
       "    .dataframe tbody tr th {\n",
       "        vertical-align: top;\n",
       "    }\n",
       "\n",
       "    .dataframe thead th {\n",
       "        text-align: right;\n",
       "    }\n",
       "</style>\n",
       "<table border=\"1\" class=\"dataframe\">\n",
       "  <thead>\n",
       "    <tr style=\"text-align: right;\">\n",
       "      <th></th>\n",
       "      <th>成绩加权排名</th>\n",
       "      <th>Unnamed: 1</th>\n",
       "      <th>Unnamed: 2</th>\n",
       "      <th>Unnamed: 3</th>\n",
       "      <th>Unnamed: 4</th>\n",
       "      <th>Unnamed: 5</th>\n",
       "      <th>Unnamed: 6</th>\n",
       "      <th>Unnamed: 7</th>\n",
       "      <th>Unnamed: 8</th>\n",
       "      <th>Unnamed: 9</th>\n",
       "      <th></th>\n",
       "    </tr>\n",
       "  </thead>\n",
       "  <tbody>\n",
       "    <tr>\n",
       "      <th>0</th>\n",
       "      <td>该成绩排序仅供参考，不作评选依据！</td>\n",
       "      <td>NaN</td>\n",
       "      <td>NaN</td>\n",
       "      <td>NaN</td>\n",
       "      <td>NaN</td>\n",
       "      <td>NaN</td>\n",
       "      <td>NaN</td>\n",
       "      <td>NaN</td>\n",
       "      <td>NaN</td>\n",
       "      <td>NaN</td>\n",
       "      <td>NaN</td>\n",
       "    </tr>\n",
       "    <tr>\n",
       "      <th>1</th>\n",
       "      <td>排名</td>\n",
       "      <td>学号</td>\n",
       "      <td>加权成绩</td>\n",
       "      <td>学分绩点（满分4分）</td>\n",
       "      <td>参与加权课程总学分</td>\n",
       "      <td>参与加权的课程门数</td>\n",
       "      <td>排名维度（站位）</td>\n",
       "      <td>不及格门数（参考）</td>\n",
       "      <td>算术平均分</td>\n",
       "      <td>推免绩点参考</td>\n",
       "      <td>NaN</td>\n",
       "    </tr>\n",
       "    <tr>\n",
       "      <th>2</th>\n",
       "      <td>1</td>\n",
       "      <td>22920192204097</td>\n",
       "      <td>91.1818</td>\n",
       "      <td>3.9455</td>\n",
       "      <td>44</td>\n",
       "      <td>15</td>\n",
       "      <td>1%</td>\n",
       "      <td>0(0)</td>\n",
       "      <td>267.4667</td>\n",
       "      <td>3.9455</td>\n",
       "      <td>NaN</td>\n",
       "    </tr>\n",
       "    <tr>\n",
       "      <th>3</th>\n",
       "      <td>2</td>\n",
       "      <td>21620192203320</td>\n",
       "      <td>92.6739</td>\n",
       "      <td>3.9348</td>\n",
       "      <td>46</td>\n",
       "      <td>17</td>\n",
       "      <td>2%</td>\n",
       "      <td>0(0)</td>\n",
       "      <td>250.7647</td>\n",
       "      <td>3.9348</td>\n",
       "      <td>NaN</td>\n",
       "    </tr>\n",
       "    <tr>\n",
       "      <th>4</th>\n",
       "      <td>3</td>\n",
       "      <td>22920192203897</td>\n",
       "      <td>93.0682</td>\n",
       "      <td>3.9091</td>\n",
       "      <td>44</td>\n",
       "      <td>15</td>\n",
       "      <td>3%</td>\n",
       "      <td>0(0)</td>\n",
       "      <td>273</td>\n",
       "      <td>3.9091</td>\n",
       "      <td>NaN</td>\n",
       "    </tr>\n",
       "    <tr>\n",
       "      <th>5</th>\n",
       "      <td>4</td>\n",
       "      <td>30220182201087</td>\n",
       "      <td>90.2432</td>\n",
       "      <td>3.8946</td>\n",
       "      <td>37</td>\n",
       "      <td>16</td>\n",
       "      <td>4%</td>\n",
       "      <td>0(0)</td>\n",
       "      <td>208.6875</td>\n",
       "      <td>3.8946</td>\n",
       "      <td>NaN</td>\n",
       "    </tr>\n",
       "    <tr>\n",
       "      <th>6</th>\n",
       "      <td>5</td>\n",
       "      <td>22920192203962</td>\n",
       "      <td>91.0889</td>\n",
       "      <td>3.8867</td>\n",
       "      <td>45</td>\n",
       "      <td>16</td>\n",
       "      <td>5%</td>\n",
       "      <td>0(0)</td>\n",
       "      <td>256.1875</td>\n",
       "      <td>3.8867</td>\n",
       "      <td>NaN</td>\n",
       "    </tr>\n",
       "    <tr>\n",
       "      <th>7</th>\n",
       "      <td>6</td>\n",
       "      <td>22920192204109</td>\n",
       "      <td>90.0889</td>\n",
       "      <td>3.8867</td>\n",
       "      <td>45</td>\n",
       "      <td>16</td>\n",
       "      <td>6%</td>\n",
       "      <td>0(0)</td>\n",
       "      <td>253.375</td>\n",
       "      <td>3.8867</td>\n",
       "      <td>NaN</td>\n",
       "    </tr>\n",
       "    <tr>\n",
       "      <th>8</th>\n",
       "      <td>7</td>\n",
       "      <td>22920192203972</td>\n",
       "      <td>91.5</td>\n",
       "      <td>3.8773</td>\n",
       "      <td>44</td>\n",
       "      <td>15</td>\n",
       "      <td>7%</td>\n",
       "      <td>0(0)</td>\n",
       "      <td>268.4</td>\n",
       "      <td>3.8773</td>\n",
       "      <td>NaN</td>\n",
       "    </tr>\n",
       "    <tr>\n",
       "      <th>9</th>\n",
       "      <td>8</td>\n",
       "      <td>33120182202165</td>\n",
       "      <td>91.2286</td>\n",
       "      <td>3.8771</td>\n",
       "      <td>35</td>\n",
       "      <td>14</td>\n",
       "      <td>8%</td>\n",
       "      <td>0(0)</td>\n",
       "      <td>228.0714</td>\n",
       "      <td>3.8771</td>\n",
       "      <td>NaN</td>\n",
       "    </tr>\n",
       "    <tr>\n",
       "      <th>10</th>\n",
       "      <td>9</td>\n",
       "      <td>34520192201443</td>\n",
       "      <td>91.14</td>\n",
       "      <td>3.876</td>\n",
       "      <td>50</td>\n",
       "      <td>19</td>\n",
       "      <td>9%</td>\n",
       "      <td>0(0)</td>\n",
       "      <td>239.8421</td>\n",
       "      <td>3.876</td>\n",
       "      <td>NaN</td>\n",
       "    </tr>\n",
       "    <tr>\n",
       "      <th>11</th>\n",
       "      <td>10</td>\n",
       "      <td>22920192203964</td>\n",
       "      <td>89.7391</td>\n",
       "      <td>3.8435</td>\n",
       "      <td>46</td>\n",
       "      <td>17</td>\n",
       "      <td>10%</td>\n",
       "      <td>0(0)</td>\n",
       "      <td>242.8235</td>\n",
       "      <td>3.8435</td>\n",
       "      <td>NaN</td>\n",
       "    </tr>\n",
       "    <tr>\n",
       "      <th>12</th>\n",
       "      <td>11</td>\n",
       "      <td>22920192204122</td>\n",
       "      <td>90.5333</td>\n",
       "      <td>3.8422</td>\n",
       "      <td>45</td>\n",
       "      <td>16</td>\n",
       "      <td>11%</td>\n",
       "      <td>0(0)</td>\n",
       "      <td>254.625</td>\n",
       "      <td>3.8422</td>\n",
       "      <td>NaN</td>\n",
       "    </tr>\n",
       "    <tr>\n",
       "      <th>13</th>\n",
       "      <td>12</td>\n",
       "      <td>22920192204159</td>\n",
       "      <td>90.0889</td>\n",
       "      <td>3.8178</td>\n",
       "      <td>45</td>\n",
       "      <td>16</td>\n",
       "      <td>12%</td>\n",
       "      <td>1(1)</td>\n",
       "      <td>253.375</td>\n",
       "      <td>3.8178</td>\n",
       "      <td>NaN</td>\n",
       "    </tr>\n",
       "    <tr>\n",
       "      <th>14</th>\n",
       "      <td>13</td>\n",
       "      <td>22920192204017</td>\n",
       "      <td>93.4444</td>\n",
       "      <td>3.8022</td>\n",
       "      <td>45</td>\n",
       "      <td>16</td>\n",
       "      <td>14%</td>\n",
       "      <td>0(0)</td>\n",
       "      <td>262.8125</td>\n",
       "      <td>3.8022</td>\n",
       "      <td>NaN</td>\n",
       "    </tr>\n",
       "    <tr>\n",
       "      <th>15</th>\n",
       "      <td>14</td>\n",
       "      <td>22920192204105</td>\n",
       "      <td>88.8478</td>\n",
       "      <td>3.7674</td>\n",
       "      <td>46</td>\n",
       "      <td>17</td>\n",
       "      <td>15%</td>\n",
       "      <td>0(0)</td>\n",
       "      <td>240.4118</td>\n",
       "      <td>3.7674</td>\n",
       "      <td>NaN</td>\n",
       "    </tr>\n",
       "    <tr>\n",
       "      <th>16</th>\n",
       "      <td>15</td>\n",
       "      <td>22920192204071</td>\n",
       "      <td>89.0435</td>\n",
       "      <td>3.7326</td>\n",
       "      <td>46</td>\n",
       "      <td>17</td>\n",
       "      <td>16%</td>\n",
       "      <td>0(0)</td>\n",
       "      <td>240.9412</td>\n",
       "      <td>3.7326</td>\n",
       "      <td>NaN</td>\n",
       "    </tr>\n",
       "    <tr>\n",
       "      <th>17</th>\n",
       "      <td>16</td>\n",
       "      <td>22920192204074</td>\n",
       "      <td>87.9111</td>\n",
       "      <td>3.7222</td>\n",
       "      <td>45</td>\n",
       "      <td>16</td>\n",
       "      <td>17%</td>\n",
       "      <td>0(0)</td>\n",
       "      <td>247.25</td>\n",
       "      <td>3.7222</td>\n",
       "      <td>NaN</td>\n",
       "    </tr>\n",
       "    <tr>\n",
       "      <th>18</th>\n",
       "      <td>17</td>\n",
       "      <td>22920192203901</td>\n",
       "      <td>88.0889</td>\n",
       "      <td>3.7022</td>\n",
       "      <td>45</td>\n",
       "      <td>16</td>\n",
       "      <td>18%</td>\n",
       "      <td>0(0)</td>\n",
       "      <td>247.75</td>\n",
       "      <td>3.7022</td>\n",
       "      <td>NaN</td>\n",
       "    </tr>\n",
       "    <tr>\n",
       "      <th>19</th>\n",
       "      <td>18</td>\n",
       "      <td>22920192203993</td>\n",
       "      <td>88.6522</td>\n",
       "      <td>3.6978</td>\n",
       "      <td>46</td>\n",
       "      <td>17</td>\n",
       "      <td>19%</td>\n",
       "      <td>0(0)</td>\n",
       "      <td>239.8824</td>\n",
       "      <td>3.6978</td>\n",
       "      <td>NaN</td>\n",
       "    </tr>\n",
       "    <tr>\n",
       "      <th>20</th>\n",
       "      <td>19</td>\n",
       "      <td>22920192203919</td>\n",
       "      <td>87.6522</td>\n",
       "      <td>3.6935</td>\n",
       "      <td>46</td>\n",
       "      <td>17</td>\n",
       "      <td>20%</td>\n",
       "      <td>0(0)</td>\n",
       "      <td>237.1765</td>\n",
       "      <td>3.6935</td>\n",
       "      <td>NaN</td>\n",
       "    </tr>\n",
       "    <tr>\n",
       "      <th>21</th>\n",
       "      <td>20</td>\n",
       "      <td>22920192204014</td>\n",
       "      <td>88.1111</td>\n",
       "      <td>3.6911</td>\n",
       "      <td>45</td>\n",
       "      <td>16</td>\n",
       "      <td>21%</td>\n",
       "      <td>0(0)</td>\n",
       "      <td>247.8125</td>\n",
       "      <td>3.6911</td>\n",
       "      <td>NaN</td>\n",
       "    </tr>\n",
       "    <tr>\n",
       "      <th>22</th>\n",
       "      <td>21</td>\n",
       "      <td>22920192203924</td>\n",
       "      <td>87.8478</td>\n",
       "      <td>3.687</td>\n",
       "      <td>46</td>\n",
       "      <td>17</td>\n",
       "      <td>22%</td>\n",
       "      <td>0(0)</td>\n",
       "      <td>237.7059</td>\n",
       "      <td>3.687</td>\n",
       "      <td>NaN</td>\n",
       "    </tr>\n",
       "    <tr>\n",
       "      <th>23</th>\n",
       "      <td>22</td>\n",
       "      <td>22920192203952</td>\n",
       "      <td>88.6739</td>\n",
       "      <td>3.6804</td>\n",
       "      <td>46</td>\n",
       "      <td>17</td>\n",
       "      <td>23%</td>\n",
       "      <td>0(0)</td>\n",
       "      <td>239.9412</td>\n",
       "      <td>3.6804</td>\n",
       "      <td>NaN</td>\n",
       "    </tr>\n",
       "    <tr>\n",
       "      <th>24</th>\n",
       "      <td>23</td>\n",
       "      <td>22920192204150</td>\n",
       "      <td>87.8478</td>\n",
       "      <td>3.663</td>\n",
       "      <td>46</td>\n",
       "      <td>17</td>\n",
       "      <td>24%</td>\n",
       "      <td>0(0)</td>\n",
       "      <td>237.7059</td>\n",
       "      <td>3.663</td>\n",
       "      <td>NaN</td>\n",
       "    </tr>\n",
       "    <tr>\n",
       "      <th>25</th>\n",
       "      <td>24</td>\n",
       "      <td>22920192204060</td>\n",
       "      <td>87.9111</td>\n",
       "      <td>3.6489</td>\n",
       "      <td>45</td>\n",
       "      <td>16</td>\n",
       "      <td>25%</td>\n",
       "      <td>0(0)</td>\n",
       "      <td>247.25</td>\n",
       "      <td>3.6489</td>\n",
       "      <td>NaN</td>\n",
       "    </tr>\n",
       "    <tr>\n",
       "      <th>26</th>\n",
       "      <td>25</td>\n",
       "      <td>22920192203940</td>\n",
       "      <td>87.7391</td>\n",
       "      <td>3.6391</td>\n",
       "      <td>46</td>\n",
       "      <td>17</td>\n",
       "      <td>26%</td>\n",
       "      <td>0(0)</td>\n",
       "      <td>237.4118</td>\n",
       "      <td>3.6391</td>\n",
       "      <td>NaN</td>\n",
       "    </tr>\n",
       "    <tr>\n",
       "      <th>27</th>\n",
       "      <td>26</td>\n",
       "      <td>22920192204019</td>\n",
       "      <td>86.6</td>\n",
       "      <td>3.6356</td>\n",
       "      <td>45</td>\n",
       "      <td>16</td>\n",
       "      <td>27%</td>\n",
       "      <td>0(0)</td>\n",
       "      <td>243.5625</td>\n",
       "      <td>3.6356</td>\n",
       "      <td>NaN</td>\n",
       "    </tr>\n",
       "    <tr>\n",
       "      <th>28</th>\n",
       "      <td>27</td>\n",
       "      <td>32420192202863</td>\n",
       "      <td>87</td>\n",
       "      <td>3.6111</td>\n",
       "      <td>45</td>\n",
       "      <td>18</td>\n",
       "      <td>28%</td>\n",
       "      <td>0(0)</td>\n",
       "      <td>217.5</td>\n",
       "      <td>3.6111</td>\n",
       "      <td>NaN</td>\n",
       "    </tr>\n",
       "    <tr>\n",
       "      <th>29</th>\n",
       "      <td>28</td>\n",
       "      <td>22920192204086</td>\n",
       "      <td>88.1087</td>\n",
       "      <td>3.5978</td>\n",
       "      <td>46</td>\n",
       "      <td>17</td>\n",
       "      <td>29%</td>\n",
       "      <td>0(0)</td>\n",
       "      <td>238.4118</td>\n",
       "      <td>3.5978</td>\n",
       "      <td>NaN</td>\n",
       "    </tr>\n",
       "    <tr>\n",
       "      <th>...</th>\n",
       "      <td>...</td>\n",
       "      <td>...</td>\n",
       "      <td>...</td>\n",
       "      <td>...</td>\n",
       "      <td>...</td>\n",
       "      <td>...</td>\n",
       "      <td>...</td>\n",
       "      <td>...</td>\n",
       "      <td>...</td>\n",
       "      <td>...</td>\n",
       "      <td>...</td>\n",
       "    </tr>\n",
       "    <tr>\n",
       "      <th>68</th>\n",
       "      <td>67</td>\n",
       "      <td>22920192203985</td>\n",
       "      <td>81.7826</td>\n",
       "      <td>3.1326</td>\n",
       "      <td>46</td>\n",
       "      <td>17</td>\n",
       "      <td>70%</td>\n",
       "      <td>0(0)</td>\n",
       "      <td>221.2941</td>\n",
       "      <td>3.1326</td>\n",
       "      <td>NaN</td>\n",
       "    </tr>\n",
       "    <tr>\n",
       "      <th>69</th>\n",
       "      <td>68</td>\n",
       "      <td>22920192204107</td>\n",
       "      <td>81.7778</td>\n",
       "      <td>3.1244</td>\n",
       "      <td>45</td>\n",
       "      <td>16</td>\n",
       "      <td>71%</td>\n",
       "      <td>0(0)</td>\n",
       "      <td>230</td>\n",
       "      <td>3.1244</td>\n",
       "      <td>NaN</td>\n",
       "    </tr>\n",
       "    <tr>\n",
       "      <th>70</th>\n",
       "      <td>69</td>\n",
       "      <td>22920192203903</td>\n",
       "      <td>80.587</td>\n",
       "      <td>3.1239</td>\n",
       "      <td>46</td>\n",
       "      <td>17</td>\n",
       "      <td>72%</td>\n",
       "      <td>1(1)</td>\n",
       "      <td>218.0588</td>\n",
       "      <td>3.1239</td>\n",
       "      <td>NaN</td>\n",
       "    </tr>\n",
       "    <tr>\n",
       "      <th>71</th>\n",
       "      <td>70</td>\n",
       "      <td>22920192204022</td>\n",
       "      <td>81.4889</td>\n",
       "      <td>3.12</td>\n",
       "      <td>45</td>\n",
       "      <td>16</td>\n",
       "      <td>73%</td>\n",
       "      <td>0(0)</td>\n",
       "      <td>229.1875</td>\n",
       "      <td>3.12</td>\n",
       "      <td>NaN</td>\n",
       "    </tr>\n",
       "    <tr>\n",
       "      <th>72</th>\n",
       "      <td>71</td>\n",
       "      <td>22920192203915</td>\n",
       "      <td>81.0652</td>\n",
       "      <td>3.113</td>\n",
       "      <td>46</td>\n",
       "      <td>17</td>\n",
       "      <td>74%</td>\n",
       "      <td>0(0)</td>\n",
       "      <td>219.3529</td>\n",
       "      <td>3.113</td>\n",
       "      <td>NaN</td>\n",
       "    </tr>\n",
       "    <tr>\n",
       "      <th>73</th>\n",
       "      <td>72</td>\n",
       "      <td>22920192204047</td>\n",
       "      <td>81.6591</td>\n",
       "      <td>3.0886</td>\n",
       "      <td>44</td>\n",
       "      <td>15</td>\n",
       "      <td>75%</td>\n",
       "      <td>0(0)</td>\n",
       "      <td>239.5333</td>\n",
       "      <td>3.0886</td>\n",
       "      <td>NaN</td>\n",
       "    </tr>\n",
       "    <tr>\n",
       "      <th>74</th>\n",
       "      <td>73</td>\n",
       "      <td>22920192204057</td>\n",
       "      <td>80.8409</td>\n",
       "      <td>3.0886</td>\n",
       "      <td>44</td>\n",
       "      <td>15</td>\n",
       "      <td>76%</td>\n",
       "      <td>0(0)</td>\n",
       "      <td>237.1333</td>\n",
       "      <td>3.0886</td>\n",
       "      <td>NaN</td>\n",
       "    </tr>\n",
       "    <tr>\n",
       "      <th>75</th>\n",
       "      <td>74</td>\n",
       "      <td>22920192204157</td>\n",
       "      <td>81.3478</td>\n",
       "      <td>3.0783</td>\n",
       "      <td>46</td>\n",
       "      <td>17</td>\n",
       "      <td>77%</td>\n",
       "      <td>0(0)</td>\n",
       "      <td>220.1176</td>\n",
       "      <td>3.0783</td>\n",
       "      <td>NaN</td>\n",
       "    </tr>\n",
       "    <tr>\n",
       "      <th>76</th>\n",
       "      <td>75</td>\n",
       "      <td>22920192204129</td>\n",
       "      <td>80.5435</td>\n",
       "      <td>3.0652</td>\n",
       "      <td>46</td>\n",
       "      <td>17</td>\n",
       "      <td>78%</td>\n",
       "      <td>0(0)</td>\n",
       "      <td>217.9412</td>\n",
       "      <td>3.0652</td>\n",
       "      <td>NaN</td>\n",
       "    </tr>\n",
       "    <tr>\n",
       "      <th>77</th>\n",
       "      <td>76</td>\n",
       "      <td>22920192203932</td>\n",
       "      <td>79.8913</td>\n",
       "      <td>3.0587</td>\n",
       "      <td>46</td>\n",
       "      <td>17</td>\n",
       "      <td>79%</td>\n",
       "      <td>0(0)</td>\n",
       "      <td>216.1765</td>\n",
       "      <td>3.0587</td>\n",
       "      <td>NaN</td>\n",
       "    </tr>\n",
       "    <tr>\n",
       "      <th>78</th>\n",
       "      <td>77</td>\n",
       "      <td>22920192203896</td>\n",
       "      <td>82.6863</td>\n",
       "      <td>3.0451</td>\n",
       "      <td>51</td>\n",
       "      <td>18</td>\n",
       "      <td>80%</td>\n",
       "      <td>1(1)</td>\n",
       "      <td>234.2778</td>\n",
       "      <td>2.8196</td>\n",
       "      <td>NaN</td>\n",
       "    </tr>\n",
       "    <tr>\n",
       "      <th>79</th>\n",
       "      <td>78</td>\n",
       "      <td>22920192204067</td>\n",
       "      <td>79.7111</td>\n",
       "      <td>3.0111</td>\n",
       "      <td>45</td>\n",
       "      <td>16</td>\n",
       "      <td>81%</td>\n",
       "      <td>1(1)</td>\n",
       "      <td>224.1875</td>\n",
       "      <td>3.0111</td>\n",
       "      <td>NaN</td>\n",
       "    </tr>\n",
       "    <tr>\n",
       "      <th>80</th>\n",
       "      <td>79</td>\n",
       "      <td>22920192204048</td>\n",
       "      <td>79.1111</td>\n",
       "      <td>2.9933</td>\n",
       "      <td>45</td>\n",
       "      <td>16</td>\n",
       "      <td>82%</td>\n",
       "      <td>0(0)</td>\n",
       "      <td>222.5</td>\n",
       "      <td>2.9933</td>\n",
       "      <td>NaN</td>\n",
       "    </tr>\n",
       "    <tr>\n",
       "      <th>81</th>\n",
       "      <td>80</td>\n",
       "      <td>22920192204118</td>\n",
       "      <td>79.3778</td>\n",
       "      <td>2.9844</td>\n",
       "      <td>45</td>\n",
       "      <td>16</td>\n",
       "      <td>83%</td>\n",
       "      <td>0(0)</td>\n",
       "      <td>223.25</td>\n",
       "      <td>2.9844</td>\n",
       "      <td>NaN</td>\n",
       "    </tr>\n",
       "    <tr>\n",
       "      <th>82</th>\n",
       "      <td>81</td>\n",
       "      <td>22920192203906</td>\n",
       "      <td>79.413</td>\n",
       "      <td>2.9435</td>\n",
       "      <td>46</td>\n",
       "      <td>17</td>\n",
       "      <td>84%</td>\n",
       "      <td>0(0)</td>\n",
       "      <td>214.8824</td>\n",
       "      <td>2.9435</td>\n",
       "      <td>NaN</td>\n",
       "    </tr>\n",
       "    <tr>\n",
       "      <th>83</th>\n",
       "      <td>82</td>\n",
       "      <td>22920192204026</td>\n",
       "      <td>78.8667</td>\n",
       "      <td>2.92</td>\n",
       "      <td>45</td>\n",
       "      <td>16</td>\n",
       "      <td>85%</td>\n",
       "      <td>0(0)</td>\n",
       "      <td>221.8125</td>\n",
       "      <td>2.92</td>\n",
       "      <td>NaN</td>\n",
       "    </tr>\n",
       "    <tr>\n",
       "      <th>84</th>\n",
       "      <td>83</td>\n",
       "      <td>22920192204056</td>\n",
       "      <td>78.6818</td>\n",
       "      <td>2.9159</td>\n",
       "      <td>44</td>\n",
       "      <td>15</td>\n",
       "      <td>86%</td>\n",
       "      <td>0(0)</td>\n",
       "      <td>230.8</td>\n",
       "      <td>2.9159</td>\n",
       "      <td>NaN</td>\n",
       "    </tr>\n",
       "    <tr>\n",
       "      <th>85</th>\n",
       "      <td>84</td>\n",
       "      <td>22920192203971</td>\n",
       "      <td>78.1087</td>\n",
       "      <td>2.8283</td>\n",
       "      <td>46</td>\n",
       "      <td>17</td>\n",
       "      <td>88%</td>\n",
       "      <td>0(0)</td>\n",
       "      <td>211.3529</td>\n",
       "      <td>2.8283</td>\n",
       "      <td>NaN</td>\n",
       "    </tr>\n",
       "    <tr>\n",
       "      <th>86</th>\n",
       "      <td>85</td>\n",
       "      <td>22920192203934</td>\n",
       "      <td>77.8913</td>\n",
       "      <td>2.8261</td>\n",
       "      <td>46</td>\n",
       "      <td>17</td>\n",
       "      <td>89%</td>\n",
       "      <td>0(0)</td>\n",
       "      <td>210.7647</td>\n",
       "      <td>2.8261</td>\n",
       "      <td>NaN</td>\n",
       "    </tr>\n",
       "    <tr>\n",
       "      <th>87</th>\n",
       "      <td>86</td>\n",
       "      <td>22920192204012</td>\n",
       "      <td>77.3913</td>\n",
       "      <td>2.7978</td>\n",
       "      <td>46</td>\n",
       "      <td>17</td>\n",
       "      <td>90%</td>\n",
       "      <td>0(0)</td>\n",
       "      <td>209.4118</td>\n",
       "      <td>2.7978</td>\n",
       "      <td>NaN</td>\n",
       "    </tr>\n",
       "    <tr>\n",
       "      <th>88</th>\n",
       "      <td>87</td>\n",
       "      <td>22920192204003</td>\n",
       "      <td>77.4222</td>\n",
       "      <td>2.7356</td>\n",
       "      <td>45</td>\n",
       "      <td>16</td>\n",
       "      <td>91%</td>\n",
       "      <td>0(0)</td>\n",
       "      <td>217.75</td>\n",
       "      <td>2.7356</td>\n",
       "      <td>NaN</td>\n",
       "    </tr>\n",
       "    <tr>\n",
       "      <th>89</th>\n",
       "      <td>88</td>\n",
       "      <td>22920192204162</td>\n",
       "      <td>77</td>\n",
       "      <td>2.7</td>\n",
       "      <td>45</td>\n",
       "      <td>16</td>\n",
       "      <td>92%</td>\n",
       "      <td>0(0)</td>\n",
       "      <td>216.5625</td>\n",
       "      <td>2.7</td>\n",
       "      <td>NaN</td>\n",
       "    </tr>\n",
       "    <tr>\n",
       "      <th>90</th>\n",
       "      <td>89</td>\n",
       "      <td>22920192204013</td>\n",
       "      <td>76</td>\n",
       "      <td>2.7</td>\n",
       "      <td>45</td>\n",
       "      <td>16</td>\n",
       "      <td>93%</td>\n",
       "      <td>0(0)</td>\n",
       "      <td>213.75</td>\n",
       "      <td>2.7</td>\n",
       "      <td>NaN</td>\n",
       "    </tr>\n",
       "    <tr>\n",
       "      <th>91</th>\n",
       "      <td>90</td>\n",
       "      <td>22920192204005</td>\n",
       "      <td>76.3913</td>\n",
       "      <td>2.6348</td>\n",
       "      <td>46</td>\n",
       "      <td>17</td>\n",
       "      <td>94%</td>\n",
       "      <td>1(1)</td>\n",
       "      <td>206.7059</td>\n",
       "      <td>2.6348</td>\n",
       "      <td>NaN</td>\n",
       "    </tr>\n",
       "    <tr>\n",
       "      <th>92</th>\n",
       "      <td>91</td>\n",
       "      <td>22920192203999</td>\n",
       "      <td>75.7647</td>\n",
       "      <td>2.6314</td>\n",
       "      <td>51</td>\n",
       "      <td>17</td>\n",
       "      <td>95%</td>\n",
       "      <td>1(1)</td>\n",
       "      <td>227.2941</td>\n",
       "      <td>2.6314</td>\n",
       "      <td>NaN</td>\n",
       "    </tr>\n",
       "    <tr>\n",
       "      <th>93</th>\n",
       "      <td>92</td>\n",
       "      <td>22920192204116</td>\n",
       "      <td>75.0652</td>\n",
       "      <td>2.5935</td>\n",
       "      <td>46</td>\n",
       "      <td>17</td>\n",
       "      <td>96%</td>\n",
       "      <td>0(0)</td>\n",
       "      <td>203.1176</td>\n",
       "      <td>2.5935</td>\n",
       "      <td>NaN</td>\n",
       "    </tr>\n",
       "    <tr>\n",
       "      <th>94</th>\n",
       "      <td>93</td>\n",
       "      <td>22920192204133</td>\n",
       "      <td>76.2609</td>\n",
       "      <td>2.5913</td>\n",
       "      <td>46</td>\n",
       "      <td>17</td>\n",
       "      <td>97%</td>\n",
       "      <td>0(0)</td>\n",
       "      <td>206.3529</td>\n",
       "      <td>2.5913</td>\n",
       "      <td>NaN</td>\n",
       "    </tr>\n",
       "    <tr>\n",
       "      <th>95</th>\n",
       "      <td>94</td>\n",
       "      <td>22920192204147</td>\n",
       "      <td>72.75</td>\n",
       "      <td>2.3712</td>\n",
       "      <td>52</td>\n",
       "      <td>18</td>\n",
       "      <td>98%</td>\n",
       "      <td>1(1)</td>\n",
       "      <td>210.1667</td>\n",
       "      <td>2.3712</td>\n",
       "      <td>NaN</td>\n",
       "    </tr>\n",
       "    <tr>\n",
       "      <th>96</th>\n",
       "      <td>95</td>\n",
       "      <td>22920192204111</td>\n",
       "      <td>72.8667</td>\n",
       "      <td>2.32</td>\n",
       "      <td>45</td>\n",
       "      <td>16</td>\n",
       "      <td>99%</td>\n",
       "      <td>0(0)</td>\n",
       "      <td>204.9375</td>\n",
       "      <td>2.32</td>\n",
       "      <td>NaN</td>\n",
       "    </tr>\n",
       "    <tr>\n",
       "      <th>97</th>\n",
       "      <td>96</td>\n",
       "      <td>22920192203954</td>\n",
       "      <td>73.6222</td>\n",
       "      <td>2.3178</td>\n",
       "      <td>45</td>\n",
       "      <td>16</td>\n",
       "      <td>100%</td>\n",
       "      <td>0(0)</td>\n",
       "      <td>207.0625</td>\n",
       "      <td>2.3178</td>\n",
       "      <td>NaN</td>\n",
       "    </tr>\n",
       "  </tbody>\n",
       "</table>\n",
       "<p>98 rows × 11 columns</p>\n",
       "</div>"
      ],
      "text/plain": [
       "               成绩加权排名      Unnamed: 1 Unnamed: 2  Unnamed: 3 Unnamed: 4  \\\n",
       "0   该成绩排序仅供参考，不作评选依据！             NaN        NaN         NaN        NaN   \n",
       "1                  排名              学号       加权成绩  学分绩点（满分4分）  参与加权课程总学分   \n",
       "2                   1  22920192204097    91.1818      3.9455         44   \n",
       "3                   2  21620192203320    92.6739      3.9348         46   \n",
       "4                   3  22920192203897    93.0682      3.9091         44   \n",
       "5                   4  30220182201087    90.2432      3.8946         37   \n",
       "6                   5  22920192203962    91.0889      3.8867         45   \n",
       "7                   6  22920192204109    90.0889      3.8867         45   \n",
       "8                   7  22920192203972       91.5      3.8773         44   \n",
       "9                   8  33120182202165    91.2286      3.8771         35   \n",
       "10                  9  34520192201443      91.14       3.876         50   \n",
       "11                 10  22920192203964    89.7391      3.8435         46   \n",
       "12                 11  22920192204122    90.5333      3.8422         45   \n",
       "13                 12  22920192204159    90.0889      3.8178         45   \n",
       "14                 13  22920192204017    93.4444      3.8022         45   \n",
       "15                 14  22920192204105    88.8478      3.7674         46   \n",
       "16                 15  22920192204071    89.0435      3.7326         46   \n",
       "17                 16  22920192204074    87.9111      3.7222         45   \n",
       "18                 17  22920192203901    88.0889      3.7022         45   \n",
       "19                 18  22920192203993    88.6522      3.6978         46   \n",
       "20                 19  22920192203919    87.6522      3.6935         46   \n",
       "21                 20  22920192204014    88.1111      3.6911         45   \n",
       "22                 21  22920192203924    87.8478       3.687         46   \n",
       "23                 22  22920192203952    88.6739      3.6804         46   \n",
       "24                 23  22920192204150    87.8478       3.663         46   \n",
       "25                 24  22920192204060    87.9111      3.6489         45   \n",
       "26                 25  22920192203940    87.7391      3.6391         46   \n",
       "27                 26  22920192204019       86.6      3.6356         45   \n",
       "28                 27  32420192202863         87      3.6111         45   \n",
       "29                 28  22920192204086    88.1087      3.5978         46   \n",
       "..                ...             ...        ...         ...        ...   \n",
       "68                 67  22920192203985    81.7826      3.1326         46   \n",
       "69                 68  22920192204107    81.7778      3.1244         45   \n",
       "70                 69  22920192203903     80.587      3.1239         46   \n",
       "71                 70  22920192204022    81.4889        3.12         45   \n",
       "72                 71  22920192203915    81.0652       3.113         46   \n",
       "73                 72  22920192204047    81.6591      3.0886         44   \n",
       "74                 73  22920192204057    80.8409      3.0886         44   \n",
       "75                 74  22920192204157    81.3478      3.0783         46   \n",
       "76                 75  22920192204129    80.5435      3.0652         46   \n",
       "77                 76  22920192203932    79.8913      3.0587         46   \n",
       "78                 77  22920192203896    82.6863      3.0451         51   \n",
       "79                 78  22920192204067    79.7111      3.0111         45   \n",
       "80                 79  22920192204048    79.1111      2.9933         45   \n",
       "81                 80  22920192204118    79.3778      2.9844         45   \n",
       "82                 81  22920192203906     79.413      2.9435         46   \n",
       "83                 82  22920192204026    78.8667        2.92         45   \n",
       "84                 83  22920192204056    78.6818      2.9159         44   \n",
       "85                 84  22920192203971    78.1087      2.8283         46   \n",
       "86                 85  22920192203934    77.8913      2.8261         46   \n",
       "87                 86  22920192204012    77.3913      2.7978         46   \n",
       "88                 87  22920192204003    77.4222      2.7356         45   \n",
       "89                 88  22920192204162         77         2.7         45   \n",
       "90                 89  22920192204013         76         2.7         45   \n",
       "91                 90  22920192204005    76.3913      2.6348         46   \n",
       "92                 91  22920192203999    75.7647      2.6314         51   \n",
       "93                 92  22920192204116    75.0652      2.5935         46   \n",
       "94                 93  22920192204133    76.2609      2.5913         46   \n",
       "95                 94  22920192204147      72.75      2.3712         52   \n",
       "96                 95  22920192204111    72.8667        2.32         45   \n",
       "97                 96  22920192203954    73.6222      2.3178         45   \n",
       "\n",
       "   Unnamed: 5 Unnamed: 6 Unnamed: 7 Unnamed: 8 Unnamed: 9      \n",
       "0         NaN        NaN        NaN        NaN        NaN NaN  \n",
       "1   参与加权的课程门数   排名维度（站位）  不及格门数（参考）      算术平均分     推免绩点参考 NaN  \n",
       "2          15         1%       0(0)   267.4667     3.9455 NaN  \n",
       "3          17         2%       0(0)   250.7647     3.9348 NaN  \n",
       "4          15         3%       0(0)        273     3.9091 NaN  \n",
       "5          16         4%       0(0)   208.6875     3.8946 NaN  \n",
       "6          16         5%       0(0)   256.1875     3.8867 NaN  \n",
       "7          16         6%       0(0)    253.375     3.8867 NaN  \n",
       "8          15         7%       0(0)      268.4     3.8773 NaN  \n",
       "9          14         8%       0(0)   228.0714     3.8771 NaN  \n",
       "10         19         9%       0(0)   239.8421      3.876 NaN  \n",
       "11         17        10%       0(0)   242.8235     3.8435 NaN  \n",
       "12         16        11%       0(0)    254.625     3.8422 NaN  \n",
       "13         16        12%       1(1)    253.375     3.8178 NaN  \n",
       "14         16        14%       0(0)   262.8125     3.8022 NaN  \n",
       "15         17        15%       0(0)   240.4118     3.7674 NaN  \n",
       "16         17        16%       0(0)   240.9412     3.7326 NaN  \n",
       "17         16        17%       0(0)     247.25     3.7222 NaN  \n",
       "18         16        18%       0(0)     247.75     3.7022 NaN  \n",
       "19         17        19%       0(0)   239.8824     3.6978 NaN  \n",
       "20         17        20%       0(0)   237.1765     3.6935 NaN  \n",
       "21         16        21%       0(0)   247.8125     3.6911 NaN  \n",
       "22         17        22%       0(0)   237.7059      3.687 NaN  \n",
       "23         17        23%       0(0)   239.9412     3.6804 NaN  \n",
       "24         17        24%       0(0)   237.7059      3.663 NaN  \n",
       "25         16        25%       0(0)     247.25     3.6489 NaN  \n",
       "26         17        26%       0(0)   237.4118     3.6391 NaN  \n",
       "27         16        27%       0(0)   243.5625     3.6356 NaN  \n",
       "28         18        28%       0(0)      217.5     3.6111 NaN  \n",
       "29         17        29%       0(0)   238.4118     3.5978 NaN  \n",
       "..        ...        ...        ...        ...        ...  ..  \n",
       "68         17        70%       0(0)   221.2941     3.1326 NaN  \n",
       "69         16        71%       0(0)        230     3.1244 NaN  \n",
       "70         17        72%       1(1)   218.0588     3.1239 NaN  \n",
       "71         16        73%       0(0)   229.1875       3.12 NaN  \n",
       "72         17        74%       0(0)   219.3529      3.113 NaN  \n",
       "73         15        75%       0(0)   239.5333     3.0886 NaN  \n",
       "74         15        76%       0(0)   237.1333     3.0886 NaN  \n",
       "75         17        77%       0(0)   220.1176     3.0783 NaN  \n",
       "76         17        78%       0(0)   217.9412     3.0652 NaN  \n",
       "77         17        79%       0(0)   216.1765     3.0587 NaN  \n",
       "78         18        80%       1(1)   234.2778     2.8196 NaN  \n",
       "79         16        81%       1(1)   224.1875     3.0111 NaN  \n",
       "80         16        82%       0(0)      222.5     2.9933 NaN  \n",
       "81         16        83%       0(0)     223.25     2.9844 NaN  \n",
       "82         17        84%       0(0)   214.8824     2.9435 NaN  \n",
       "83         16        85%       0(0)   221.8125       2.92 NaN  \n",
       "84         15        86%       0(0)      230.8     2.9159 NaN  \n",
       "85         17        88%       0(0)   211.3529     2.8283 NaN  \n",
       "86         17        89%       0(0)   210.7647     2.8261 NaN  \n",
       "87         17        90%       0(0)   209.4118     2.7978 NaN  \n",
       "88         16        91%       0(0)     217.75     2.7356 NaN  \n",
       "89         16        92%       0(0)   216.5625        2.7 NaN  \n",
       "90         16        93%       0(0)     213.75        2.7 NaN  \n",
       "91         17        94%       1(1)   206.7059     2.6348 NaN  \n",
       "92         17        95%       1(1)   227.2941     2.6314 NaN  \n",
       "93         17        96%       0(0)   203.1176     2.5935 NaN  \n",
       "94         17        97%       0(0)   206.3529     2.5913 NaN  \n",
       "95         18        98%       1(1)   210.1667     2.3712 NaN  \n",
       "96         16        99%       0(0)   204.9375       2.32 NaN  \n",
       "97         16       100%       0(0)   207.0625     2.3178 NaN  \n",
       "\n",
       "[98 rows x 11 columns]"
      ]
     },
     "execution_count": 1,
     "metadata": {},
     "output_type": "execute_result"
    }
   ],
   "source": [
    "import pandas as pd\n",
    "#data=pd.read_excel('123.xlsx')\n",
    "data=pd.read_csv('Test.csv')\n",
    "data\n",
    "#data.to_pickle('Test.pickle')"
   ]
  },
  {
   "cell_type": "markdown",
   "metadata": {},
   "source": [
    "### 6) 合并concat"
   ]
  },
  {
   "cell_type": "code",
   "execution_count": 34,
   "metadata": {},
   "outputs": [
    {
     "name": "stdout",
     "output_type": "stream",
     "text": [
      "     a    b    c    d\n",
      "0  0.0  0.0  0.0  0.0\n",
      "1  0.0  0.0  0.0  0.0\n",
      "2  0.0  0.0  0.0  0.0\n",
      "     a    b    c    d\n",
      "0  1.0  1.0  1.0  1.0\n",
      "1  1.0  1.0  1.0  1.0\n",
      "2  1.0  1.0  1.0  1.0\n",
      "     a    b    c    d\n",
      "0  2.0  2.0  2.0  2.0\n",
      "1  2.0  2.0  2.0  2.0\n",
      "2  2.0  2.0  2.0  2.0\n",
      "     a    b    c    d\n",
      "0  0.0  0.0  0.0  0.0\n",
      "1  0.0  0.0  0.0  0.0\n",
      "2  0.0  0.0  0.0  0.0\n",
      "3  1.0  1.0  1.0  1.0\n",
      "4  1.0  1.0  1.0  1.0\n",
      "5  1.0  1.0  1.0  1.0\n",
      "6  2.0  2.0  2.0  2.0\n",
      "7  2.0  2.0  2.0  2.0\n",
      "8  2.0  2.0  2.0  2.0\n"
     ]
    }
   ],
   "source": [
    "#concatenating\n",
    "import pandas as pd\n",
    "import numpy as np\n",
    "df1=pd.DataFrame(np.ones((3,4))*0,columns=['a','b','c','d'])\n",
    "df2=pd.DataFrame(np.ones((3,4))*1,columns=['a','b','c','d'])\n",
    "df3=pd.DataFrame(np.ones((3,4))*2,columns=['a','b','c','d'])\n",
    "print(df1)\n",
    "print(df2)\n",
    "print(df3)\n",
    "res=pd.concat([df1,df2,df3],axis=0,ignore_index=True)#纵向合并,忽略原来的行名称\n",
    "print(res)"
   ]
  },
  {
   "cell_type": "code",
   "execution_count": 43,
   "metadata": {},
   "outputs": [
    {
     "name": "stdout",
     "output_type": "stream",
     "text": [
      "     a    b    c    d\n",
      "1  0.0  0.0  0.0  0.0\n",
      "2  0.0  0.0  0.0  0.0\n",
      "3  0.0  0.0  0.0  0.0\n",
      "     b    c    d    e\n",
      "2  1.0  1.0  1.0  1.0\n",
      "3  1.0  1.0  1.0  1.0\n",
      "4  1.0  1.0  1.0  1.0\n",
      "     b    c    d\n",
      "0  0.0  0.0  0.0\n",
      "1  0.0  0.0  0.0\n",
      "2  0.0  0.0  0.0\n",
      "3  1.0  1.0  1.0\n",
      "4  1.0  1.0  1.0\n",
      "5  1.0  1.0  1.0\n",
      "     a    b    c    d    e\n",
      "1  0.0  0.0  0.0  0.0  NaN\n",
      "2  0.0  0.0  0.0  0.0  NaN\n",
      "3  0.0  0.0  0.0  0.0  NaN\n",
      "2  NaN  1.0  1.0  1.0  1.0\n",
      "3  NaN  1.0  1.0  1.0  1.0\n",
      "4  NaN  1.0  1.0  1.0  1.0\n"
     ]
    }
   ],
   "source": [
    "#join,['inner','outer']\n",
    "import pandas as pd\n",
    "import numpy as np\n",
    "df1=pd.DataFrame(np.ones((3,4))*0,columns=['a','b','c','d'],index=[1,2,3])\n",
    "df2=pd.DataFrame(np.ones((3,4))*1,columns=['b','c','d','e'],index=[2,3,4])\n",
    "print(df1)\n",
    "print(df2)\n",
    "res=pd.concat([df1,df2],join='inner',ignore_index=True)\n",
    "res2=pd.concat([df1,df2],join='outer',sort=True)\n",
    "print(res)\n",
    "print(res2)"
   ]
  },
  {
   "cell_type": "code",
   "execution_count": 2,
   "metadata": {},
   "outputs": [
    {
     "name": "stdout",
     "output_type": "stream",
     "text": [
      "     a    b    c    d\n",
      "1  0.0  0.0  0.0  0.0\n",
      "2  0.0  0.0  0.0  0.0\n",
      "3  0.0  0.0  0.0  0.0\n",
      "     b    c    d    e\n",
      "2  1.0  1.0  1.0  1.0\n",
      "3  1.0  1.0  1.0  1.0\n",
      "4  1.0  1.0  1.0  1.0\n"
     ]
    },
    {
     "data": {
      "text/html": [
       "<div>\n",
       "<style scoped>\n",
       "    .dataframe tbody tr th:only-of-type {\n",
       "        vertical-align: middle;\n",
       "    }\n",
       "\n",
       "    .dataframe tbody tr th {\n",
       "        vertical-align: top;\n",
       "    }\n",
       "\n",
       "    .dataframe thead th {\n",
       "        text-align: right;\n",
       "    }\n",
       "</style>\n",
       "<table border=\"1\" class=\"dataframe\">\n",
       "  <thead>\n",
       "    <tr style=\"text-align: right;\">\n",
       "      <th></th>\n",
       "      <th>a</th>\n",
       "      <th>b</th>\n",
       "      <th>c</th>\n",
       "      <th>d</th>\n",
       "      <th>b</th>\n",
       "      <th>c</th>\n",
       "      <th>d</th>\n",
       "      <th>e</th>\n",
       "    </tr>\n",
       "  </thead>\n",
       "  <tbody>\n",
       "    <tr>\n",
       "      <th>1</th>\n",
       "      <td>0.0</td>\n",
       "      <td>0.0</td>\n",
       "      <td>0.0</td>\n",
       "      <td>0.0</td>\n",
       "      <td>NaN</td>\n",
       "      <td>NaN</td>\n",
       "      <td>NaN</td>\n",
       "      <td>NaN</td>\n",
       "    </tr>\n",
       "    <tr>\n",
       "      <th>2</th>\n",
       "      <td>0.0</td>\n",
       "      <td>0.0</td>\n",
       "      <td>0.0</td>\n",
       "      <td>0.0</td>\n",
       "      <td>1.0</td>\n",
       "      <td>1.0</td>\n",
       "      <td>1.0</td>\n",
       "      <td>1.0</td>\n",
       "    </tr>\n",
       "    <tr>\n",
       "      <th>3</th>\n",
       "      <td>0.0</td>\n",
       "      <td>0.0</td>\n",
       "      <td>0.0</td>\n",
       "      <td>0.0</td>\n",
       "      <td>1.0</td>\n",
       "      <td>1.0</td>\n",
       "      <td>1.0</td>\n",
       "      <td>1.0</td>\n",
       "    </tr>\n",
       "  </tbody>\n",
       "</table>\n",
       "</div>"
      ],
      "text/plain": [
       "     a    b    c    d    b    c    d    e\n",
       "1  0.0  0.0  0.0  0.0  NaN  NaN  NaN  NaN\n",
       "2  0.0  0.0  0.0  0.0  1.0  1.0  1.0  1.0\n",
       "3  0.0  0.0  0.0  0.0  1.0  1.0  1.0  1.0"
      ]
     },
     "execution_count": 2,
     "metadata": {},
     "output_type": "execute_result"
    }
   ],
   "source": [
    "#join_axes\n",
    "import pandas as pd\n",
    "import numpy as np\n",
    "df1=pd.DataFrame(np.ones((3,4))*0,columns=['a','b','c','d'],index=[1,2,3])\n",
    "df2=pd.DataFrame(np.ones((3,4))*1,columns=['b','c','d','e'],index=[2,3,4])\n",
    "res=pd.concat([df1,df2],axis=1,join_axes=[df1.index])#按照df1的index合并\n",
    "print(df1)\n",
    "print(df2)\n",
    "res"
   ]
  },
  {
   "cell_type": "code",
   "execution_count": 57,
   "metadata": {},
   "outputs": [
    {
     "name": "stdout",
     "output_type": "stream",
     "text": [
      "     a    b    c    d    e\n",
      "0  0.0  0.0  0.0  0.0  NaN\n",
      "1  0.0  0.0  0.0  0.0  NaN\n",
      "2  0.0  0.0  0.0  0.0  NaN\n",
      "3  1.0  1.0  1.0  1.0  NaN\n",
      "4  1.0  1.0  1.0  1.0  NaN\n",
      "5  1.0  1.0  1.0  1.0  NaN\n",
      "6  NaN  1.0  1.0  1.0  1.0\n",
      "7  NaN  1.0  1.0  1.0  1.0\n",
      "8  NaN  1.0  1.0  1.0  1.0\n",
      "     a    b    c    d\n",
      "0  0.0  0.0  0.0  0.0\n",
      "1  0.0  0.0  0.0  0.0\n",
      "2  0.0  0.0  0.0  0.0\n",
      "3  1.0  2.0  3.0  4.0\n"
     ]
    }
   ],
   "source": [
    "#append\n",
    "import pandas as pd\n",
    "import numpy as np\n",
    "df1=pd.DataFrame(np.ones((3,4))*0,columns=['a','b','c','d'])\n",
    "df2=pd.DataFrame(np.ones((3,4))*1,columns=['a','b','c','d'])\n",
    "df3=pd.DataFrame(np.ones((3,4))*1,columns=['b','c','d','e'],index=[2,3,4])\n",
    "res=df1.append([df2,df3],ignore_index=True,sort=True)\n",
    "print(res)\n",
    "s1=pd.Series([1,2,3,4],index=['a','b','c','d'])\n",
    "res2=df1.append(s1,ignore_index=True,sort=True)\n",
    "print(res2)"
   ]
  },
  {
   "cell_type": "markdown",
   "metadata": {},
   "source": [
    "### 7) 合并merge"
   ]
  },
  {
   "cell_type": "code",
   "execution_count": 61,
   "metadata": {},
   "outputs": [
    {
     "name": "stdout",
     "output_type": "stream",
     "text": [
      "  Key   A   B\n",
      "0  K0  A0  B0\n",
      "1  K1  A1  B1\n",
      "2  K2  A2  B2\n",
      "3  K3  A3  B3\n",
      "  Key   C   D\n",
      "0  K0  C0  D0\n",
      "1  K1  C1  D1\n",
      "2  K2  C2  D2\n",
      "3  K3  C3  D3\n",
      "  Key   A   B   C   D\n",
      "0  K0  A0  B0  C0  D0\n",
      "1  K1  A1  B1  C1  D1\n",
      "2  K2  A2  B2  C2  D2\n",
      "3  K3  A3  B3  C3  D3\n"
     ]
    }
   ],
   "source": [
    "#mergeing two df by key\n",
    "import pandas as pd\n",
    "import numpy as np\n",
    "left=pd.DataFrame({'Key':['K0','K1','K2','K3'],'A':['A0','A1','A2','A3'],'B':['B0','B1','B2','B3']})\n",
    "right=pd.DataFrame({'Key':['K0','K1','K2','K3'],'C':['C0','C1','C2','C3'],'D':['D0','D1','D2','D3']})\n",
    "print(left)\n",
    "print(right)\n",
    "res=pd.merge(left,right,on='Key')#基于Key这一列\n",
    "print(res)"
   ]
  },
  {
   "cell_type": "code",
   "execution_count": 69,
   "metadata": {},
   "outputs": [
    {
     "name": "stdout",
     "output_type": "stream",
     "text": [
      "  Key1 Key2   A   B\n",
      "0   K0   K0  A0  B0\n",
      "1   K0   K1  A1  B1\n",
      "2   K1   K0  A2  B2\n",
      "3   K2   K1  A3  B3\n",
      "  Key1 Key2   C   D\n",
      "0   K0   K0  C0  D0\n",
      "1   K1   K0  C1  D1\n",
      "2   K1   K0  C2  D2\n",
      "3   K2   K0  C3  D3\n",
      "  Key1 Key2   A   B    C    D\n",
      "0   K0   K0  A0  B0   C0   D0\n",
      "1   K0   K1  A1  B1  NaN  NaN\n",
      "2   K1   K0  A2  B2   C1   D1\n",
      "3   K1   K0  A2  B2   C2   D2\n",
      "4   K2   K1  A3  B3  NaN  NaN\n"
     ]
    }
   ],
   "source": [
    "#consider two keys\n",
    "import pandas as pd\n",
    "import numpy as np\n",
    "left=pd.DataFrame({'Key1':['K0','K0','K1','K2'],'Key2':['K0','K1','K0','K1'],'A':['A0','A1','A2','A3'],'B':['B0','B1','B2','B3']})\n",
    "right=pd.DataFrame({'Key1':['K0','K1','K1','K2'],'Key2':['K0','K0','K0','K0'],'C':['C0','C1','C2','C3'],'D':['D0','D1','D2','D3']})\n",
    "print(left)\n",
    "print(right)\n",
    "#how=['left','right','inner','outer']\n",
    "res=pd.merge(left,right,on=['Key1','Key2'],how='left')#找两个关键词相同的一行合并,默认inner\n",
    "print(res)"
   ]
  },
  {
   "cell_type": "code",
   "execution_count": 72,
   "metadata": {},
   "outputs": [
    {
     "name": "stdout",
     "output_type": "stream",
     "text": [
      "   col1 col_left\n",
      "0     0        a\n",
      "1     1        b\n",
      "   col1  col_right\n",
      "0     1          2\n",
      "1     2          2\n",
      "2     2          2\n",
      "   col1 col_left  col_right      _merge\n",
      "0     0        a        NaN   left_only\n",
      "1     1        b        2.0        both\n",
      "2     2      NaN        2.0  right_only\n",
      "3     2      NaN        2.0  right_only\n",
      "   col1 col_left  col_right indicator_column\n",
      "0     0        a        NaN        left_only\n",
      "1     1        b        2.0             both\n",
      "2     2      NaN        2.0       right_only\n",
      "3     2      NaN        2.0       right_only\n"
     ]
    }
   ],
   "source": [
    "#indicator\n",
    "df1=pd.DataFrame({'col1':[0,1],'col_left':['a','b']})\n",
    "df2=pd.DataFrame({'col1':[1,2,2],'col_right':[2,2,2]})\n",
    "print(df1)\n",
    "print(df2)\n",
    "res=pd.merge(df1,df2,on='col1',how='outer',indicator=True)#默认是False\n",
    "print(res)\n",
    "res2=pd.merge(df1,df2,on='col1',how='outer',indicator='indicator_column')#重命名\n",
    "print(res2)"
   ]
  },
  {
   "cell_type": "code",
   "execution_count": 75,
   "metadata": {},
   "outputs": [
    {
     "name": "stdout",
     "output_type": "stream",
     "text": [
      "     A   B\n",
      "K0  A0  B0\n",
      "K1  A1  B1\n",
      "K2  A2  B2\n",
      "     C   D\n",
      "K0  C0  D0\n",
      "K2  C1  D1\n",
      "K3  C2  D2\n",
      "      A    B    C    D\n",
      "K0   A0   B0   C0   D0\n",
      "K1   A1   B1  NaN  NaN\n",
      "K2   A2   B2   C1   D1\n",
      "K3  NaN  NaN   C2   D2\n",
      "     A   B   C   D\n",
      "K0  A0  B0  C0  D0\n",
      "K2  A2  B2  C1  D1\n"
     ]
    }
   ],
   "source": [
    "#merged by index\n",
    "left=pd.DataFrame({'A':['A0','A1','A2'],'B':['B0','B1','B2']},index=['K0','K1','K2'])\n",
    "right=pd.DataFrame({'C':['C0','C1','C2'],'D':['D0','D1','D2']},index=['K0','K2','K3'])\n",
    "print(left)\n",
    "print(right)\n",
    "res=pd.merge(left,right,left_index=True,right_index=True,how='outer')\n",
    "print(res)\n",
    "res2=pd.merge(left,right,left_index=True,right_index=True,how='inner')\n",
    "print(res2)"
   ]
  },
  {
   "cell_type": "code",
   "execution_count": 81,
   "metadata": {},
   "outputs": [
    {
     "name": "stdout",
     "output_type": "stream",
     "text": [
      "    k  age\n",
      "0  k0    1\n",
      "1  k1    2\n",
      "2  k2    3\n",
      "    k  age\n",
      "0  k0    4\n",
      "1  k0    5\n",
      "2  k3    6\n",
      "    k  age_boy  age_girl\n",
      "0  k0      1.0       4.0\n",
      "1  k0      1.0       5.0\n",
      "2  k1      2.0       NaN\n",
      "3  k2      3.0       NaN\n",
      "4  k3      NaN       6.0\n"
     ]
    }
   ],
   "source": [
    "#handle overlapping\n",
    "#将原表格中名称相同的列重命名\n",
    "import pandas as pd\n",
    "boys=pd.DataFrame({'k':['k0','k1','k2'],'age':[1,2,3]})\n",
    "girls=pd.DataFrame({'k':['k0','k0','k3'],'age':[4,5,6]})\n",
    "print(boys)\n",
    "print(girls)\n",
    "res=pd.merge(boys,girls,on='k',suffixes=['_boy','_girl'],how='outer')\n",
    "print(res)"
   ]
  },
  {
   "cell_type": "markdown",
   "metadata": {},
   "source": [
    "### 8）plot画图"
   ]
  },
  {
   "cell_type": "code",
   "execution_count": 83,
   "metadata": {},
   "outputs": [
    {
     "data": {
      "image/png": "[encoded data removed]",
      "text/plain": [
       "<Figure size 432x288 with 1 Axes>"
      ]
     },
     "metadata": {
      "needs_background": "light"
     },
     "output_type": "display_data"
    }
   ],
   "source": [
    "#Series数据\n",
    "import numpy as np\n",
    "import pandas as pd\n",
    "import matplotlib.pyplot as plt\n",
    "data=pd.Series(np.random.randn(1000),index=np.arange(1000))\n",
    "data=data.cumsum()\n",
    "plt.figure()\n",
    "data.plot()\n",
    "plt.show()"
   ]
  },
  {
   "cell_type": "code",
   "execution_count": 90,
   "metadata": {},
   "outputs": [
    {
     "name": "stdout",
     "output_type": "stream",
     "text": [
      "          A         B         C         D\n",
      "0  0.263204 -0.698042 -1.317971 -0.168989\n",
      "1  0.757983 -2.348717 -1.686551  0.093833\n",
      "2 -0.158212 -2.403777 -2.796474  0.200448\n"
     ]
    },
    {
     "data": {
      "text/plain": [
       "<Figure size 432x288 with 0 Axes>"
      ]
     },
     "metadata": {},
     "output_type": "display_data"
    },
    {
     "data": {
      "image/png": "[encoded data removed]",
      "text/plain": [
       "<Figure size 432x288 with 1 Axes>"
      ]
     },
     "metadata": {
      "needs_background": "light"
     },
     "output_type": "display_data"
    }
   ],
   "source": [
    "#DataFrame数据\n",
    "import numpy as np\n",
    "import pandas as pd\n",
    "import matplotlib.pyplot as plt\n",
    "data=pd.DataFrame(np.random.randn(1000,4),index=np.arange(1000),columns=list('ABCD'))\n",
    "data=data.cumsum()\n",
    "print(data.head(3))\n",
    "plt.figure()\n",
    "data.plot()\n",
    "plt.show()"
   ]
  },
  {
   "cell_type": "code",
   "execution_count": 92,
   "metadata": {},
   "outputs": [
    {
     "data": {
      "image/png": "[encoded data removed]",
      "text/plain": [
       "<Figure size 432x288 with 1 Axes>"
      ]
     },
     "metadata": {
      "needs_background": "light"
     },
     "output_type": "display_data"
    },
    {
     "data": {
      "text/plain": [
       "<Figure size 432x288 with 0 Axes>"
      ]
     },
     "metadata": {},
     "output_type": "display_data"
    }
   ],
   "source": [
    "#plot methods:‘bar’,'hist','box','kde','area','scatter','hexbin','pie'\n",
    "#plt.scatter\n",
    "import numpy as np\n",
    "import pandas as pd\n",
    "import matplotlib.pyplot as plt\n",
    "data=pd.DataFrame(np.random.randn(1000,4),index=np.arange(1000),columns=list('ABCD'))\n",
    "data=data.cumsum()\n",
    "ax=data.plot.scatter(x='A',y='B',color='DarkBlue',label='Class1')\n",
    "data.plot.scatter(x='A',y='C',color='Red',label='Class2',ax=ax)\n",
    "plt.figure()\n",
    "plt.show()"
   ]
  },
  {
   "cell_type": "markdown",
   "metadata": {},
   "source": [
    "## 2 pandas的数据结构"
   ]
  },
  {
   "cell_type": "markdown",
   "metadata": {},
   "source": [
    "### 1) Series\n",
    "\n",
    "+ Series是一种类似于一维数组的对象，它由一组数据（各种NumPy数据类型）以及索引组成。\n",
    "\n",
    "Series的索引在左边，值在右边。"
   ]
  },
  {
   "cell_type": "code",
   "execution_count": 96,
   "metadata": {},
   "outputs": [
    {
     "name": "stdout",
     "output_type": "stream",
     "text": [
      "0    4\n",
      "1    6\n",
      "2    5\n",
      "3   -8\n",
      "dtype: int64\n",
      "[ 4  6  5 -8]\n",
      "RangeIndex(start=0, stop=4, step=1)\n"
     ]
    }
   ],
   "source": [
    "import pandas as pd\n",
    "obj=pd.Series([4,6,5,-8])\n",
    "print(obj)\n",
    "print(obj.values)\n",
    "print(obj.index)"
   ]
  },
  {
   "cell_type": "markdown",
   "metadata": {},
   "source": [
    "+ 使创建的Series带有一个可以对各个数据点进行标记的索引"
   ]
  },
  {
   "cell_type": "code",
   "execution_count": 101,
   "metadata": {},
   "outputs": [
    {
     "name": "stdout",
     "output_type": "stream",
     "text": [
      "a    2\n",
      "b    4\n",
      "c    6\n",
      "d    7\n",
      "dtype: int64\n",
      "Index(['a', 'b', 'c', 'd'], dtype='object')\n"
     ]
    }
   ],
   "source": [
    "import pandas as pd\n",
    "obj2=pd.Series([2,4,6,7],index=['a','b','c','d'])\n",
    "print(obj2)\n",
    "print(obj2.index)"
   ]
  },
  {
   "cell_type": "markdown",
   "metadata": {},
   "source": [
    "+ 可以通过索引的方式选取Series中的单个或一组值"
   ]
  },
  {
   "cell_type": "code",
   "execution_count": 106,
   "metadata": {},
   "outputs": [
    {
     "name": "stdout",
     "output_type": "stream",
     "text": [
      "2\n",
      "b    4\n",
      "c    6\n",
      "d    7\n",
      "dtype: int64\n"
     ]
    }
   ],
   "source": [
    "import pandas as pd\n",
    "obj2=pd.Series([2,4,6,7],index=['a','b','c','d'])\n",
    "print(obj2['a'])\n",
    "print(obj2[['b','c','d']])"
   ]
  },
  {
   "cell_type": "markdown",
   "metadata": {},
   "source": [
    "+ 还可以将Series看成一个定长的有序字典"
   ]
  },
  {
   "cell_type": "code",
   "execution_count": 107,
   "metadata": {},
   "outputs": [
    {
     "data": {
      "text/plain": [
       "False"
      ]
     },
     "execution_count": 107,
     "metadata": {},
     "output_type": "execute_result"
    }
   ],
   "source": [
    "import pandas as pd\n",
    "obj2=pd.Series([2,4,6,7],index=['a','b','c','d'])\n",
    "'2'in obj2"
   ]
  },
  {
   "cell_type": "markdown",
   "metadata": {},
   "source": [
    "+ isnull和notnull函数用于检测缺失数据"
   ]
  },
  {
   "cell_type": "code",
   "execution_count": 109,
   "metadata": {},
   "outputs": [
    {
     "name": "stdout",
     "output_type": "stream",
     "text": [
      "a    False\n",
      "b    False\n",
      "c    False\n",
      "d    False\n",
      "dtype: bool\n",
      "a    True\n",
      "b    True\n",
      "c    True\n",
      "d    True\n",
      "dtype: bool\n"
     ]
    }
   ],
   "source": [
    "import pandas as pd\n",
    "obj2=pd.Series([2,4,6,7],index=['a','b','c','d'])\n",
    "print(pd.isnull(obj2))\n",
    "print(pd.notnull(obj2))"
   ]
  },
  {
   "cell_type": "markdown",
   "metadata": {},
   "source": [
    "### 2) DataFrame"
   ]
  },
  {
   "cell_type": "markdown",
   "metadata": {},
   "source": [
    "+ DataFrame是一个表格型的数据结构，可以看做由Series组成的字典，既有行索引也有列索引。"
   ]
  },
  {
   "cell_type": "code",
   "execution_count": 111,
   "metadata": {},
   "outputs": [
    {
     "data": {
      "text/html": [
       "<div>\n",
       "<style scoped>\n",
       "    .dataframe tbody tr th:only-of-type {\n",
       "        vertical-align: middle;\n",
       "    }\n",
       "\n",
       "    .dataframe tbody tr th {\n",
       "        vertical-align: top;\n",
       "    }\n",
       "\n",
       "    .dataframe thead th {\n",
       "        text-align: right;\n",
       "    }\n",
       "</style>\n",
       "<table border=\"1\" class=\"dataframe\">\n",
       "  <thead>\n",
       "    <tr style=\"text-align: right;\">\n",
       "      <th></th>\n",
       "      <th>state</th>\n",
       "      <th>year</th>\n",
       "      <th>pop</th>\n",
       "    </tr>\n",
       "  </thead>\n",
       "  <tbody>\n",
       "    <tr>\n",
       "      <th>0</th>\n",
       "      <td>one</td>\n",
       "      <td>2001</td>\n",
       "      <td>1.2</td>\n",
       "    </tr>\n",
       "    <tr>\n",
       "      <th>1</th>\n",
       "      <td>two</td>\n",
       "      <td>2002</td>\n",
       "      <td>3.4</td>\n",
       "    </tr>\n",
       "    <tr>\n",
       "      <th>2</th>\n",
       "      <td>three</td>\n",
       "      <td>2001</td>\n",
       "      <td>5.6</td>\n",
       "    </tr>\n",
       "  </tbody>\n",
       "</table>\n",
       "</div>"
      ],
      "text/plain": [
       "   state  year  pop\n",
       "0    one  2001  1.2\n",
       "1    two  2002  3.4\n",
       "2  three  2001  5.6"
      ]
     },
     "execution_count": 111,
     "metadata": {},
     "output_type": "execute_result"
    }
   ],
   "source": [
    "#最常用的建立方式是直接传入一个由等长列表或NumPy数组组成的字典\n",
    "import pandas as pd\n",
    "data={'state':['one','two','three'],'year':[2001,2002,2001],'pop':[1.2,3.4,5.6]}\n",
    "frame=pd.DataFrame(data)\n",
    "frame"
   ]
  },
  {
   "cell_type": "markdown",
   "metadata": {},
   "source": [
    "+ 对于特别大的DataFrame，head可以选取前五行。如果指定了列序列，则DataFrame的列就会按照指定顺序进行排列。"
   ]
  },
  {
   "cell_type": "code",
   "execution_count": 118,
   "metadata": {},
   "outputs": [
    {
     "data": {
      "text/html": [
       "<div>\n",
       "<style scoped>\n",
       "    .dataframe tbody tr th:only-of-type {\n",
       "        vertical-align: middle;\n",
       "    }\n",
       "\n",
       "    .dataframe tbody tr th {\n",
       "        vertical-align: top;\n",
       "    }\n",
       "\n",
       "    .dataframe thead th {\n",
       "        text-align: right;\n",
       "    }\n",
       "</style>\n",
       "<table border=\"1\" class=\"dataframe\">\n",
       "  <thead>\n",
       "    <tr style=\"text-align: right;\">\n",
       "      <th></th>\n",
       "      <th>y</th>\n",
       "      <th>p</th>\n",
       "      <th>s</th>\n",
       "    </tr>\n",
       "  </thead>\n",
       "  <tbody>\n",
       "    <tr>\n",
       "      <th>0</th>\n",
       "      <td>2001</td>\n",
       "      <td>1.2</td>\n",
       "      <td>one</td>\n",
       "    </tr>\n",
       "    <tr>\n",
       "      <th>1</th>\n",
       "      <td>2002</td>\n",
       "      <td>3.4</td>\n",
       "      <td>two</td>\n",
       "    </tr>\n",
       "    <tr>\n",
       "      <th>2</th>\n",
       "      <td>2001</td>\n",
       "      <td>5.0</td>\n",
       "      <td>three</td>\n",
       "    </tr>\n",
       "  </tbody>\n",
       "</table>\n",
       "</div>"
      ],
      "text/plain": [
       "      y    p      s\n",
       "0  2001  1.2    one\n",
       "1  2002  3.4    two\n",
       "2  2001  5.0  three"
      ]
     },
     "execution_count": 118,
     "metadata": {},
     "output_type": "execute_result"
    }
   ],
   "source": [
    "import pandas as pd\n",
    "data={'s':['one','two','three'],'y':[2001,2002,2001],'p':[1.2,3.4,5]}\n",
    "frame=pd.DataFrame(data,columns=['y','p','s'])\n",
    "frame"
   ]
  },
  {
   "cell_type": "markdown",
   "metadata": {},
   "source": [
    "+ del用来删除列"
   ]
  },
  {
   "cell_type": "code",
   "execution_count": 122,
   "metadata": {},
   "outputs": [
    {
     "data": {
      "text/html": [
       "<div>\n",
       "<style scoped>\n",
       "    .dataframe tbody tr th:only-of-type {\n",
       "        vertical-align: middle;\n",
       "    }\n",
       "\n",
       "    .dataframe tbody tr th {\n",
       "        vertical-align: top;\n",
       "    }\n",
       "\n",
       "    .dataframe thead th {\n",
       "        text-align: right;\n",
       "    }\n",
       "</style>\n",
       "<table border=\"1\" class=\"dataframe\">\n",
       "  <thead>\n",
       "    <tr style=\"text-align: right;\">\n",
       "      <th></th>\n",
       "      <th>p</th>\n",
       "      <th>s</th>\n",
       "    </tr>\n",
       "  </thead>\n",
       "  <tbody>\n",
       "    <tr>\n",
       "      <th>5</th>\n",
       "      <td>1.2</td>\n",
       "      <td>one</td>\n",
       "    </tr>\n",
       "    <tr>\n",
       "      <th>6</th>\n",
       "      <td>3.4</td>\n",
       "      <td>two</td>\n",
       "    </tr>\n",
       "    <tr>\n",
       "      <th>7</th>\n",
       "      <td>5.0</td>\n",
       "      <td>three</td>\n",
       "    </tr>\n",
       "  </tbody>\n",
       "</table>\n",
       "</div>"
      ],
      "text/plain": [
       "     p      s\n",
       "5  1.2    one\n",
       "6  3.4    two\n",
       "7  5.0  three"
      ]
     },
     "execution_count": 122,
     "metadata": {},
     "output_type": "execute_result"
    }
   ],
   "source": [
    "import pandas as pd\n",
    "data={'s':['one','two','three'],'y':[2001,2002,2001],'p':[1.2,3.4,5]}\n",
    "frame=pd.DataFrame(data,columns=['y','p','s'],index=[5,6,7])\n",
    "del frame['y']\n",
    "frame"
   ]
  },
  {
   "cell_type": "markdown",
   "metadata": {},
   "source": [
    "## 3 基本功能"
   ]
  },
  {
   "cell_type": "markdown",
   "metadata": {},
   "source": [
    "### 1）重新索引"
   ]
  },
  {
   "cell_type": "markdown",
   "metadata": {},
   "source": [
    "+ reindex的作用是创建一个新对象，它的数据符合新的索引。"
   ]
  },
  {
   "cell_type": "code",
   "execution_count": 124,
   "metadata": {},
   "outputs": [
    {
     "name": "stdout",
     "output_type": "stream",
     "text": [
      "d    4\n",
      "b    7\n",
      "c    9\n",
      "a    0\n",
      "dtype: int64\n",
      "a    0.0\n",
      "b    7.0\n",
      "c    9.0\n",
      "d    4.0\n",
      "e    NaN\n",
      "dtype: float64\n"
     ]
    }
   ],
   "source": [
    "import pandas as pd\n",
    "obj=pd.Series([4,7,9,0],index=['d','b','c','a'])\n",
    "print(obj)\n",
    "obj2=obj.reindex(['a','b','c','d','e'])\n",
    "print(obj2)"
   ]
  },
  {
   "cell_type": "markdown",
   "metadata": {},
   "source": [
    "+ 插值处理，运用method，使用ffill可以实现前向值填充"
   ]
  },
  {
   "cell_type": "code",
   "execution_count": 128,
   "metadata": {},
   "outputs": [
    {
     "name": "stdout",
     "output_type": "stream",
     "text": [
      "0      blue\n",
      "3    yellow\n",
      "4       red\n",
      "dtype: object\n"
     ]
    },
    {
     "data": {
      "text/plain": [
       "0      blue\n",
       "1      blue\n",
       "2      blue\n",
       "3    yellow\n",
       "4       red\n",
       "5       red\n",
       "dtype: object"
      ]
     },
     "execution_count": 128,
     "metadata": {},
     "output_type": "execute_result"
    }
   ],
   "source": [
    "import pandas as pd\n",
    "obj=pd.Series(['blue','yellow','red'],index=[0,3,4])\n",
    "print(obj)\n",
    "obj.reindex(range(6),method='ffill')"
   ]
  },
  {
   "cell_type": "markdown",
   "metadata": {},
   "source": [
    "### 2) 丢弃指定轴上的项\n",
    "\n",
    "使用drop函数"
   ]
  },
  {
   "cell_type": "markdown",
   "metadata": {},
   "source": [
    "+ 对于Series"
   ]
  },
  {
   "cell_type": "code",
   "execution_count": 4,
   "metadata": {},
   "outputs": [
    {
     "name": "stdout",
     "output_type": "stream",
     "text": [
      "a    0.0\n",
      "b    1.0\n",
      "c    2.0\n",
      "d    3.0\n",
      "e    4.0\n",
      "dtype: float64\n",
      "a    0.0\n",
      "b    1.0\n",
      "e    4.0\n",
      "dtype: float64\n"
     ]
    }
   ],
   "source": [
    "import pandas as pd\n",
    "import numpy as np\n",
    "obj=pd.Series(np.arange(5.),index=['a','b','c','d','e'])\n",
    "print(obj)\n",
    "new_obj=obj.drop(['d','c'])\n",
    "print(new_obj)"
   ]
  },
  {
   "cell_type": "markdown",
   "metadata": {},
   "source": [
    "+ 对于DataFrame"
   ]
  },
  {
   "cell_type": "code",
   "execution_count": 17,
   "metadata": {},
   "outputs": [
    {
     "name": "stdout",
     "output_type": "stream",
     "text": [
      "   one  two  three  four\n",
      "A    0    1      2     3\n",
      "B    4    5      6     7\n",
      "C    8    9     10    11\n",
      "D   12   13     14    15\n",
      "   three  four\n",
      "A      2     3\n",
      "B      6     7\n",
      "C     10    11\n",
      "D     14    15\n",
      "   one  two  three  four\n",
      "B    4    5      6     7\n",
      "D   12   13     14    15\n",
      "   one  two  three  four\n",
      "B    4    5      6     7\n",
      "C    8    9     10    11\n",
      "D   12   13     14    15\n"
     ]
    }
   ],
   "source": [
    "import pandas as pd\n",
    "import numpy as np\n",
    "data=pd.DataFrame(np.arange(16).reshape((4,4)),index=['A','B','C','D'],columns=['one','two','three','four'])\n",
    "print(data)\n",
    "data2=data.drop(['one','two'],axis=1)\n",
    "print(data2)\n",
    "data3=data.drop(['A','C'])\n",
    "print(data3)\n",
    "data.drop('A',inplace=True)#原地修改\n",
    "print(data)"
   ]
  },
  {
   "cell_type": "markdown",
   "metadata": {},
   "source": [
    "### 3）索引、选取和过滤"
   ]
  },
  {
   "cell_type": "markdown",
   "metadata": {},
   "source": [
    "+ Series\n",
    "\n",
    "利用标签的切片，其末端是包含的"
   ]
  },
  {
   "cell_type": "code",
   "execution_count": 20,
   "metadata": {},
   "outputs": [
    {
     "name": "stdout",
     "output_type": "stream",
     "text": [
      "a    0.0\n",
      "b    1.0\n",
      "c    2.0\n",
      "d    3.0\n",
      "dtype: float64\n",
      "b    1.0\n",
      "c    2.0\n",
      "dtype: float64\n",
      "a    0.0\n",
      "b    5.0\n",
      "c    5.0\n",
      "d    3.0\n",
      "dtype: float64\n"
     ]
    }
   ],
   "source": [
    "import pandas as pd\n",
    "import numpy as np\n",
    "obj=pd.Series(np.arange(4.),index=['a','b','c','d'])\n",
    "print(obj)\n",
    "print(obj['b':'c'])\n",
    "obj['b':'c']=5\n",
    "print(obj)"
   ]
  },
  {
   "cell_type": "markdown",
   "metadata": {},
   "source": [
    "### 4) 在算术方法中填充值"
   ]
  },
  {
   "cell_type": "code",
   "execution_count": 27,
   "metadata": {},
   "outputs": [
    {
     "name": "stdout",
     "output_type": "stream",
     "text": [
      "     a    b     c     d\n",
      "0  0.0  1.0   2.0   3.0\n",
      "1  4.0  5.0   6.0   7.0\n",
      "2  8.0  9.0  10.0  11.0\n",
      "      a     b     c     d     e\n",
      "0   0.0   1.0   2.0   3.0   4.0\n",
      "1   5.0   NaN   7.0   8.0   9.0\n",
      "2  10.0  11.0  12.0  13.0  14.0\n",
      "3  15.0  16.0  17.0  18.0  19.0\n",
      "      a     b     c     d   e\n",
      "0   0.0   2.0   4.0   6.0 NaN\n",
      "1   9.0   NaN  13.0  15.0 NaN\n",
      "2  18.0  20.0  22.0  24.0 NaN\n",
      "3   NaN   NaN   NaN   NaN NaN\n"
     ]
    },
    {
     "data": {
      "text/html": [
       "<div>\n",
       "<style scoped>\n",
       "    .dataframe tbody tr th:only-of-type {\n",
       "        vertical-align: middle;\n",
       "    }\n",
       "\n",
       "    .dataframe tbody tr th {\n",
       "        vertical-align: top;\n",
       "    }\n",
       "\n",
       "    .dataframe thead th {\n",
       "        text-align: right;\n",
       "    }\n",
       "</style>\n",
       "<table border=\"1\" class=\"dataframe\">\n",
       "  <thead>\n",
       "    <tr style=\"text-align: right;\">\n",
       "      <th></th>\n",
       "      <th>a</th>\n",
       "      <th>b</th>\n",
       "      <th>c</th>\n",
       "      <th>d</th>\n",
       "      <th>e</th>\n",
       "    </tr>\n",
       "  </thead>\n",
       "  <tbody>\n",
       "    <tr>\n",
       "      <th>0</th>\n",
       "      <td>0.0</td>\n",
       "      <td>2.0</td>\n",
       "      <td>4.0</td>\n",
       "      <td>6.0</td>\n",
       "      <td>4.0</td>\n",
       "    </tr>\n",
       "    <tr>\n",
       "      <th>1</th>\n",
       "      <td>9.0</td>\n",
       "      <td>5.0</td>\n",
       "      <td>13.0</td>\n",
       "      <td>15.0</td>\n",
       "      <td>9.0</td>\n",
       "    </tr>\n",
       "    <tr>\n",
       "      <th>2</th>\n",
       "      <td>18.0</td>\n",
       "      <td>20.0</td>\n",
       "      <td>22.0</td>\n",
       "      <td>24.0</td>\n",
       "      <td>14.0</td>\n",
       "    </tr>\n",
       "    <tr>\n",
       "      <th>3</th>\n",
       "      <td>15.0</td>\n",
       "      <td>16.0</td>\n",
       "      <td>17.0</td>\n",
       "      <td>18.0</td>\n",
       "      <td>19.0</td>\n",
       "    </tr>\n",
       "  </tbody>\n",
       "</table>\n",
       "</div>"
      ],
      "text/plain": [
       "      a     b     c     d     e\n",
       "0   0.0   2.0   4.0   6.0   4.0\n",
       "1   9.0   5.0  13.0  15.0   9.0\n",
       "2  18.0  20.0  22.0  24.0  14.0\n",
       "3  15.0  16.0  17.0  18.0  19.0"
      ]
     },
     "execution_count": 27,
     "metadata": {},
     "output_type": "execute_result"
    }
   ],
   "source": [
    "import numpy as np\n",
    "import pandas as pd\n",
    "df1=pd.DataFrame(np.arange(12.).reshape((3,4)),columns=list('abcd'))\n",
    "df2=pd.DataFrame(np.arange(20.).reshape((4,5)),columns=list('abcde'))\n",
    "df2.loc[1,'b']=np.nan\n",
    "print(df1)\n",
    "print(df2)\n",
    "print(df1+df2)#直接相加时，没有重叠的地方就会产生NA值\n",
    "df1.add(df2,fill_value=0)#使用add方法"
   ]
  },
  {
   "cell_type": "code",
   "execution_count": 30,
   "metadata": {},
   "outputs": [
    {
     "name": "stdout",
     "output_type": "stream",
     "text": [
      "     a    b     c     d\n",
      "0  0.0  1.0   2.0   3.0\n",
      "1  4.0  5.0   6.0   7.0\n",
      "2  8.0  9.0  10.0  11.0\n"
     ]
    },
    {
     "data": {
      "text/html": [
       "<div>\n",
       "<style scoped>\n",
       "    .dataframe tbody tr th:only-of-type {\n",
       "        vertical-align: middle;\n",
       "    }\n",
       "\n",
       "    .dataframe tbody tr th {\n",
       "        vertical-align: top;\n",
       "    }\n",
       "\n",
       "    .dataframe thead th {\n",
       "        text-align: right;\n",
       "    }\n",
       "</style>\n",
       "<table border=\"1\" class=\"dataframe\">\n",
       "  <thead>\n",
       "    <tr style=\"text-align: right;\">\n",
       "      <th></th>\n",
       "      <th>a</th>\n",
       "      <th>b</th>\n",
       "      <th>c</th>\n",
       "      <th>d</th>\n",
       "      <th>e</th>\n",
       "    </tr>\n",
       "  </thead>\n",
       "  <tbody>\n",
       "    <tr>\n",
       "      <th>0</th>\n",
       "      <td>0.0</td>\n",
       "      <td>1.0</td>\n",
       "      <td>2.0</td>\n",
       "      <td>3.0</td>\n",
       "      <td>0</td>\n",
       "    </tr>\n",
       "    <tr>\n",
       "      <th>1</th>\n",
       "      <td>4.0</td>\n",
       "      <td>5.0</td>\n",
       "      <td>6.0</td>\n",
       "      <td>7.0</td>\n",
       "      <td>0</td>\n",
       "    </tr>\n",
       "    <tr>\n",
       "      <th>2</th>\n",
       "      <td>8.0</td>\n",
       "      <td>9.0</td>\n",
       "      <td>10.0</td>\n",
       "      <td>11.0</td>\n",
       "      <td>0</td>\n",
       "    </tr>\n",
       "  </tbody>\n",
       "</table>\n",
       "</div>"
      ],
      "text/plain": [
       "     a    b     c     d  e\n",
       "0  0.0  1.0   2.0   3.0  0\n",
       "1  4.0  5.0   6.0   7.0  0\n",
       "2  8.0  9.0  10.0  11.0  0"
      ]
     },
     "execution_count": 30,
     "metadata": {},
     "output_type": "execute_result"
    }
   ],
   "source": [
    "import numpy as np\n",
    "import pandas as pd\n",
    "df1=pd.DataFrame(np.arange(12.).reshape((3,4)),columns=list('abcd'))\n",
    "df2=pd.DataFrame(np.arange(20.).reshape((4,5)),columns=list('abcde'))\n",
    "print(df1)\n",
    "df1.reindex(columns=df2.columns,fill_value=0)"
   ]
  },
  {
   "cell_type": "markdown",
   "metadata": {},
   "source": [
    "### 5) DataFrame和Series之间的运算"
   ]
  },
  {
   "cell_type": "markdown",
   "metadata": {},
   "source": [
    "+ 默认情况下，DataFrame和Series之间的算术运算会将Series的索引默认匹配到DataFrame的列，然后沿行一直向下广播"
   ]
  },
  {
   "cell_type": "code",
   "execution_count": 32,
   "metadata": {},
   "outputs": [
    {
     "name": "stdout",
     "output_type": "stream",
     "text": [
      "          b     d     e\n",
      "Utah    0.0   1.0   2.0\n",
      "Ohio    3.0   4.0   5.0\n",
      "Texas   6.0   7.0   8.0\n",
      "Oregon  9.0  10.0  11.0\n",
      "b    0.0\n",
      "d    1.0\n",
      "e    2.0\n",
      "Name: Utah, dtype: float64\n"
     ]
    }
   ],
   "source": [
    "import pandas as pd\n",
    "import numpy as np\n",
    "frame=pd.DataFrame(np.arange(12.).reshape((4,3)),index=['Utah','Ohio','Texas','Oregon'],columns=['b','d','e'])\n",
    "series=frame.iloc[0]\n",
    "print(frame)\n",
    "print(series)"
   ]
  },
  {
   "cell_type": "markdown",
   "metadata": {},
   "source": [
    "### 6）函数应用和映射"
   ]
  },
  {
   "cell_type": "markdown",
   "metadata": {},
   "source": [
    "+ 将函数应用到由各列或行所形成的一维数组上"
   ]
  },
  {
   "cell_type": "code",
   "execution_count": 4,
   "metadata": {},
   "outputs": [
    {
     "name": "stdout",
     "output_type": "stream",
     "text": [
      "              a         b         c\n",
      "one    0.990970 -0.075049  0.144510\n",
      "two   -1.099700  1.283812 -0.645189\n",
      "three -1.154337  0.209332 -1.707189\n",
      "four   0.616025  0.222704 -0.405932\n",
      "a    2.145308\n",
      "b    1.358860\n",
      "c    1.851699\n",
      "dtype: float64\n"
     ]
    },
    {
     "data": {
      "text/plain": [
       "one      1.066019\n",
       "two      2.383511\n",
       "three    1.916521\n",
       "four     1.021957\n",
       "dtype: float64"
      ]
     },
     "execution_count": 4,
     "metadata": {},
     "output_type": "execute_result"
    }
   ],
   "source": [
    "import numpy as np\n",
    "import pandas as pd\n",
    "f=lambda x:x.max()-x.min()\n",
    "frame=pd.DataFrame(np.random.randn(4,3),index=['one','two','three','four'],columns=['a','b','c'])\n",
    "print(frame)\n",
    "print(frame.apply(f))\n",
    "frame.apply(f,axis='columns')"
   ]
  },
  {
   "cell_type": "markdown",
   "metadata": {},
   "source": [
    "+ 传递到apply的函数不是必须返回一个标量，还可以返回由多个值组成的Series"
   ]
  },
  {
   "cell_type": "code",
   "execution_count": 6,
   "metadata": {},
   "outputs": [
    {
     "data": {
      "text/html": [
       "<div>\n",
       "<style scoped>\n",
       "    .dataframe tbody tr th:only-of-type {\n",
       "        vertical-align: middle;\n",
       "    }\n",
       "\n",
       "    .dataframe tbody tr th {\n",
       "        vertical-align: top;\n",
       "    }\n",
       "\n",
       "    .dataframe thead th {\n",
       "        text-align: right;\n",
       "    }\n",
       "</style>\n",
       "<table border=\"1\" class=\"dataframe\">\n",
       "  <thead>\n",
       "    <tr style=\"text-align: right;\">\n",
       "      <th></th>\n",
       "      <th>a</th>\n",
       "      <th>b</th>\n",
       "      <th>c</th>\n",
       "    </tr>\n",
       "  </thead>\n",
       "  <tbody>\n",
       "    <tr>\n",
       "      <th>min</th>\n",
       "      <td>-0.359965</td>\n",
       "      <td>-1.432722</td>\n",
       "      <td>-1.582760</td>\n",
       "    </tr>\n",
       "    <tr>\n",
       "      <th>max</th>\n",
       "      <td>1.153909</td>\n",
       "      <td>0.463912</td>\n",
       "      <td>0.426922</td>\n",
       "    </tr>\n",
       "  </tbody>\n",
       "</table>\n",
       "</div>"
      ],
      "text/plain": [
       "            a         b         c\n",
       "min -0.359965 -1.432722 -1.582760\n",
       "max  1.153909  0.463912  0.426922"
      ]
     },
     "execution_count": 6,
     "metadata": {},
     "output_type": "execute_result"
    }
   ],
   "source": [
    "import numpy as np\n",
    "import pandas as pd\n",
    "def f(x):\n",
    "    return pd.Series([x.min(),x.max()],index=['min','max'])\n",
    "frame=pd.DataFrame(np.random.randn(4,3),index=['one','two','three','four'],columns=['a','b','c'])\n",
    "frame.apply(f)"
   ]
  },
  {
   "cell_type": "markdown",
   "metadata": {},
   "source": [
    "### 7) 排序和排名"
   ]
  },
  {
   "cell_type": "markdown",
   "metadata": {},
   "source": [
    "+ 使用Sort_index方法，它将返回一个已排序的新对象"
   ]
  },
  {
   "cell_type": "code",
   "execution_count": 10,
   "metadata": {},
   "outputs": [
    {
     "name": "stdout",
     "output_type": "stream",
     "text": [
      "d    0\n",
      "a    1\n",
      "b    2\n",
      "c    3\n",
      "dtype: int64\n"
     ]
    },
    {
     "data": {
      "text/plain": [
       "a    1\n",
       "b    2\n",
       "c    3\n",
       "d    0\n",
       "dtype: int64"
      ]
     },
     "execution_count": 10,
     "metadata": {},
     "output_type": "execute_result"
    }
   ],
   "source": [
    "import numpy as np\n",
    "import pandas as pd\n",
    "obj=pd.Series(range(4),index=['d','a','b','c'])\n",
    "print(obj)\n",
    "obj.sort_index()"
   ]
  },
  {
   "cell_type": "markdown",
   "metadata": {},
   "source": [
    "+ 对于DataFrame,可以根据任意一个轴上的索引进行排序"
   ]
  },
  {
   "cell_type": "code",
   "execution_count": 15,
   "metadata": {},
   "outputs": [
    {
     "name": "stdout",
     "output_type": "stream",
     "text": [
      "       d  a  b  c\n",
      "three  0  1  2  3\n",
      "one    4  5  6  7\n",
      "       d  a  b  c\n",
      "one    4  5  6  7\n",
      "three  0  1  2  3\n",
      "       a  b  c  d\n",
      "three  1  2  3  0\n",
      "one    5  6  7  4\n",
      "       d  c  b  a\n",
      "three  0  3  2  1\n",
      "one    4  7  6  5\n"
     ]
    }
   ],
   "source": [
    "import numpy as np\n",
    "import pandas as pd\n",
    "frame=pd.DataFrame(np.arange(8).reshape((2,4)),index=['three','one'],columns=['d','a','b','c'])\n",
    "print(frame)\n",
    "print(frame.sort_index())\n",
    "print(frame.sort_index(axis='columns'))\n",
    "print(frame.sort_index(axis=1,ascending=False))"
   ]
  },
  {
   "cell_type": "markdown",
   "metadata": {},
   "source": [
    "+ 若要按值对Series进行排序，可使用sort_values,缺失默认值会被放到末尾"
   ]
  },
  {
   "cell_type": "code",
   "execution_count": 19,
   "metadata": {},
   "outputs": [
    {
     "name": "stdout",
     "output_type": "stream",
     "text": [
      "0    4.0\n",
      "1    NaN\n",
      "2   -3.0\n",
      "3    2.0\n",
      "dtype: float64\n"
     ]
    },
    {
     "data": {
      "text/plain": [
       "2   -3.0\n",
       "3    2.0\n",
       "0    4.0\n",
       "1    NaN\n",
       "dtype: float64"
      ]
     },
     "execution_count": 19,
     "metadata": {},
     "output_type": "execute_result"
    }
   ],
   "source": [
    "import numpy as np\n",
    "import pandas as pd\n",
    "obj=pd.Series([4,np.nan,-3,2])\n",
    "print(obj)\n",
    "obj.sort_values()"
   ]
  },
  {
   "cell_type": "markdown",
   "metadata": {},
   "source": [
    "+ 当排序一个DataFrame时，根据其中一个或多个列中的值进行排序"
   ]
  },
  {
   "cell_type": "code",
   "execution_count": 23,
   "metadata": {},
   "outputs": [
    {
     "name": "stdout",
     "output_type": "stream",
     "text": [
      "   b  a\n",
      "0  4  0\n",
      "1  7  1\n",
      "2 -3  0\n",
      "3  2  1\n",
      "   b  a\n",
      "2 -3  0\n",
      "0  4  0\n",
      "3  2  1\n",
      "1  7  1\n"
     ]
    }
   ],
   "source": [
    "import numpy as np\n",
    "import pandas as pd\n",
    "frame=pd.DataFrame({'b':[4,7,-3,2],'a':[0,1,0,1]})\n",
    "print(frame)\n",
    "print(frame.sort_values(by=['a','b']))"
   ]
  },
  {
   "cell_type": "markdown",
   "metadata": {},
   "source": [
    "## 4 最后\n",
    "\n",
    "如果想要查看详细讲解视频，请点击<https://mofanpy.com/tutorials/data-manipulation/np-pd/>\n",
    "\n",
    "注明：本文档由Jupyter Notebook编辑并导出，每个代码块下方是运行结果，可供参考。"
   ]
  }
 ],
 "metadata": {
  "kernelspec": {
   "display_name": "Python 3",
   "language": "python",
   "name": "python3"
  },
  "language_info": {
   "codemirror_mode": {
    "name": "ipython",
    "version": 3
   },
   "file_extension": ".py",
   "mimetype": "text/x-python",
   "name": "python",
   "nbconvert_exporter": "python",
   "pygments_lexer": "ipython3",
   "version": "3.7.0"
  }
 },
 "nbformat": 4,
 "nbformat_minor": 2
}
